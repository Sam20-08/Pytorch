{
  "nbformat": 4,
  "nbformat_minor": 0,
  "metadata": {
    "colab": {
      "provenance": [],
      "gpuType": "T4"
    },
    "kernelspec": {
      "name": "python3",
      "display_name": "Python 3"
    },
    "language_info": {
      "name": "python"
    },
    "accelerator": "GPU"
  },
  "cells": [
    {
      "cell_type": "code",
      "execution_count": 1,
      "metadata": {
        "colab": {
          "base_uri": "https://localhost:8080/"
        },
        "id": "xVwKlpig6RbS",
        "outputId": "97926604-fb51-4d02-af90-5826abd5c371"
      },
      "outputs": [
        {
          "output_type": "stream",
          "name": "stdout",
          "text": [
            "/bin/bash: line 1: nvidia-smi: command not found\n"
          ]
        }
      ],
      "source": [
        "!nvidia-smi"
      ]
    },
    {
      "cell_type": "code",
      "source": [
        "import torch\n",
        "print(torch.__version__)"
      ],
      "metadata": {
        "colab": {
          "base_uri": "https://localhost:8080/"
        },
        "id": "rnQE5JBo7EY8",
        "outputId": "993e4ef8-6591-44ee-9ee3-9711c6c62a7e"
      },
      "execution_count": 2,
      "outputs": [
        {
          "output_type": "stream",
          "name": "stdout",
          "text": [
            "2.5.0+cu121\n"
          ]
        }
      ]
    },
    {
      "cell_type": "markdown",
      "source": [
        "## Introduction to tensors"
      ],
      "metadata": {
        "id": "Vc0T068t732V"
      }
    },
    {
      "cell_type": "markdown",
      "source": [
        "#### Scalar"
      ],
      "metadata": {
        "id": "eMNHOdVk8lvi"
      }
    },
    {
      "cell_type": "code",
      "source": [
        "scalar=torch.tensor(7)\n",
        "scalar"
      ],
      "metadata": {
        "colab": {
          "base_uri": "https://localhost:8080/"
        },
        "id": "MKKT5znv7LlZ",
        "outputId": "4eb6bcae-2ca8-43da-cb98-66859d98a2ed"
      },
      "execution_count": 3,
      "outputs": [
        {
          "output_type": "execute_result",
          "data": {
            "text/plain": [
              "tensor(7)"
            ]
          },
          "metadata": {},
          "execution_count": 3
        }
      ]
    },
    {
      "cell_type": "code",
      "source": [
        "scalar.ndim"
      ],
      "metadata": {
        "colab": {
          "base_uri": "https://localhost:8080/"
        },
        "id": "nCBGUjul8qqW",
        "outputId": "a62b7095-3b4a-4141-d51d-16081e9de50e"
      },
      "execution_count": 4,
      "outputs": [
        {
          "output_type": "execute_result",
          "data": {
            "text/plain": [
              "0"
            ]
          },
          "metadata": {},
          "execution_count": 4
        }
      ]
    },
    {
      "cell_type": "code",
      "source": [
        "#Get tensor back as python int\n",
        "scalar.item()"
      ],
      "metadata": {
        "colab": {
          "base_uri": "https://localhost:8080/"
        },
        "id": "rDXGiFt-8uU1",
        "outputId": "17fae6f6-9c8d-48db-aad1-1aa5791cfd87"
      },
      "execution_count": 5,
      "outputs": [
        {
          "output_type": "execute_result",
          "data": {
            "text/plain": [
              "7"
            ]
          },
          "metadata": {},
          "execution_count": 5
        }
      ]
    },
    {
      "cell_type": "markdown",
      "source": [
        "#### vector"
      ],
      "metadata": {
        "id": "7cKAsl2t88k1"
      }
    },
    {
      "cell_type": "code",
      "source": [
        "vector=torch.tensor([7,7])\n",
        "vector"
      ],
      "metadata": {
        "colab": {
          "base_uri": "https://localhost:8080/"
        },
        "id": "bEoQ1wOt8zUi",
        "outputId": "c32b5acd-b10c-44e1-ef41-117b3c03d622"
      },
      "execution_count": 6,
      "outputs": [
        {
          "output_type": "execute_result",
          "data": {
            "text/plain": [
              "tensor([7, 7])"
            ]
          },
          "metadata": {},
          "execution_count": 6
        }
      ]
    },
    {
      "cell_type": "code",
      "source": [
        "vector.ndim"
      ],
      "metadata": {
        "colab": {
          "base_uri": "https://localhost:8080/"
        },
        "id": "PsJaK21y9Xix",
        "outputId": "a555d99b-3736-4ea1-de7e-d20053b172e8"
      },
      "execution_count": 7,
      "outputs": [
        {
          "output_type": "execute_result",
          "data": {
            "text/plain": [
              "1"
            ]
          },
          "metadata": {},
          "execution_count": 7
        }
      ]
    },
    {
      "cell_type": "code",
      "source": [
        "vector.shape"
      ],
      "metadata": {
        "colab": {
          "base_uri": "https://localhost:8080/"
        },
        "id": "czpQSqmf9cbw",
        "outputId": "39707c67-71ea-446d-de82-79447403adae"
      },
      "execution_count": 8,
      "outputs": [
        {
          "output_type": "execute_result",
          "data": {
            "text/plain": [
              "torch.Size([2])"
            ]
          },
          "metadata": {},
          "execution_count": 8
        }
      ]
    },
    {
      "cell_type": "markdown",
      "source": [
        "#### Matrix"
      ],
      "metadata": {
        "id": "uCB-HsuW9x3k"
      }
    },
    {
      "cell_type": "code",
      "source": [
        "matrix=torch.tensor([[1,2],[3,4]])\n",
        "matrix"
      ],
      "metadata": {
        "colab": {
          "base_uri": "https://localhost:8080/"
        },
        "id": "5eWchzFY9wzx",
        "outputId": "f3596465-a3ef-4b1c-d72b-66508fd750b7"
      },
      "execution_count": 9,
      "outputs": [
        {
          "output_type": "execute_result",
          "data": {
            "text/plain": [
              "tensor([[1, 2],\n",
              "        [3, 4]])"
            ]
          },
          "metadata": {},
          "execution_count": 9
        }
      ]
    },
    {
      "cell_type": "code",
      "source": [
        "matrix.ndim"
      ],
      "metadata": {
        "colab": {
          "base_uri": "https://localhost:8080/"
        },
        "id": "S985QZdt94yM",
        "outputId": "973d7cd0-10c6-446a-9ed8-b40eecab00c4"
      },
      "execution_count": 10,
      "outputs": [
        {
          "output_type": "execute_result",
          "data": {
            "text/plain": [
              "2"
            ]
          },
          "metadata": {},
          "execution_count": 10
        }
      ]
    },
    {
      "cell_type": "code",
      "source": [
        "matrix[0]"
      ],
      "metadata": {
        "colab": {
          "base_uri": "https://localhost:8080/"
        },
        "id": "4VY1rQCV9-Am",
        "outputId": "6bc16c95-4376-4f1e-bf59-236d64d36ef8"
      },
      "execution_count": 11,
      "outputs": [
        {
          "output_type": "execute_result",
          "data": {
            "text/plain": [
              "tensor([1, 2])"
            ]
          },
          "metadata": {},
          "execution_count": 11
        }
      ]
    },
    {
      "cell_type": "code",
      "source": [
        "matrix.shape"
      ],
      "metadata": {
        "colab": {
          "base_uri": "https://localhost:8080/"
        },
        "id": "fu3KjB_B-Uyz",
        "outputId": "4a648a38-b0d8-4d7f-cb4e-bd14e85e26f8"
      },
      "execution_count": 12,
      "outputs": [
        {
          "output_type": "execute_result",
          "data": {
            "text/plain": [
              "torch.Size([2, 2])"
            ]
          },
          "metadata": {},
          "execution_count": 12
        }
      ]
    },
    {
      "cell_type": "markdown",
      "source": [
        "#### Tensor"
      ],
      "metadata": {
        "id": "xY_IB0Tv-iGR"
      }
    },
    {
      "cell_type": "code",
      "source": [
        "tensor=torch.tensor([[[1,2,3],\n",
        "                      [4,5,6],\n",
        "                      [7,8,9]]])\n",
        "\n",
        "tensor"
      ],
      "metadata": {
        "colab": {
          "base_uri": "https://localhost:8080/"
        },
        "id": "hgT-nCLz-YzT",
        "outputId": "5c9f6f5c-d57a-4a6a-ff80-e698e15922ba"
      },
      "execution_count": 13,
      "outputs": [
        {
          "output_type": "execute_result",
          "data": {
            "text/plain": [
              "tensor([[[1, 2, 3],\n",
              "         [4, 5, 6],\n",
              "         [7, 8, 9]]])"
            ]
          },
          "metadata": {},
          "execution_count": 13
        }
      ]
    },
    {
      "cell_type": "code",
      "source": [
        "tensor.ndim"
      ],
      "metadata": {
        "colab": {
          "base_uri": "https://localhost:8080/"
        },
        "id": "KBzLrKID-5TQ",
        "outputId": "34dfe07d-3022-4a1a-896e-e2510def5e02"
      },
      "execution_count": 14,
      "outputs": [
        {
          "output_type": "execute_result",
          "data": {
            "text/plain": [
              "3"
            ]
          },
          "metadata": {},
          "execution_count": 14
        }
      ]
    },
    {
      "cell_type": "code",
      "source": [
        "tensor.shape"
      ],
      "metadata": {
        "colab": {
          "base_uri": "https://localhost:8080/"
        },
        "id": "EVDJ3aAQ-60Y",
        "outputId": "cfa8f691-1b80-4cbf-a28f-7b2ecb411b25"
      },
      "execution_count": 15,
      "outputs": [
        {
          "output_type": "execute_result",
          "data": {
            "text/plain": [
              "torch.Size([1, 3, 3])"
            ]
          },
          "metadata": {},
          "execution_count": 15
        }
      ]
    },
    {
      "cell_type": "code",
      "source": [
        "tensor[0]"
      ],
      "metadata": {
        "colab": {
          "base_uri": "https://localhost:8080/"
        },
        "id": "wZVYfem9-8nU",
        "outputId": "7da8be1c-ca9e-4a1e-e9b4-7d3afbab64cc"
      },
      "execution_count": 16,
      "outputs": [
        {
          "output_type": "execute_result",
          "data": {
            "text/plain": [
              "tensor([[1, 2, 3],\n",
              "        [4, 5, 6],\n",
              "        [7, 8, 9]])"
            ]
          },
          "metadata": {},
          "execution_count": 16
        }
      ]
    },
    {
      "cell_type": "code",
      "source": [
        "tensor1=torch.tensor([[[1,2,3],\n",
        "               [4,3,5],\n",
        "               [7,8,9]]])"
      ],
      "metadata": {
        "id": "8thmF6Dz_oeV"
      },
      "execution_count": 17,
      "outputs": []
    },
    {
      "cell_type": "code",
      "source": [
        "tensor1[0][0][1]"
      ],
      "metadata": {
        "colab": {
          "base_uri": "https://localhost:8080/"
        },
        "id": "1_JobS-lAFya",
        "outputId": "89005020-0c77-4973-f0ec-9d6fa2c4b4af"
      },
      "execution_count": 18,
      "outputs": [
        {
          "output_type": "execute_result",
          "data": {
            "text/plain": [
              "tensor(2)"
            ]
          },
          "metadata": {},
          "execution_count": 18
        }
      ]
    },
    {
      "cell_type": "markdown",
      "source": [
        "## Random Tensors"
      ],
      "metadata": {
        "id": "AZ7PWCeIA__O"
      }
    },
    {
      "cell_type": "code",
      "source": [
        "# Create a random tensor of size (3,4)\n",
        "random_numbers=torch.rand(size=(3,4))\n",
        "# random_numbers=torch.rand(3,4)    ------- alternative\n",
        "random_numbers"
      ],
      "metadata": {
        "colab": {
          "base_uri": "https://localhost:8080/"
        },
        "id": "iB0il7F0BHpN",
        "outputId": "7fe735a4-86e9-418f-f48e-758e14feee7e"
      },
      "execution_count": 19,
      "outputs": [
        {
          "output_type": "execute_result",
          "data": {
            "text/plain": [
              "tensor([[0.3263, 0.5907, 0.4142, 0.1666],\n",
              "        [0.7741, 0.2555, 0.7292, 0.5174],\n",
              "        [0.8869, 0.4893, 0.2930, 0.8991]])"
            ]
          },
          "metadata": {},
          "execution_count": 19
        }
      ]
    },
    {
      "cell_type": "code",
      "source": [
        "random_numbers.ndim"
      ],
      "metadata": {
        "colab": {
          "base_uri": "https://localhost:8080/"
        },
        "id": "u63FBevyChhC",
        "outputId": "4852789a-843c-49ee-de77-25fc28199b69"
      },
      "execution_count": 20,
      "outputs": [
        {
          "output_type": "execute_result",
          "data": {
            "text/plain": [
              "2"
            ]
          },
          "metadata": {},
          "execution_count": 20
        }
      ]
    },
    {
      "cell_type": "code",
      "source": [
        "random_num=torch.rand(1,3,4)\n",
        "random_num"
      ],
      "metadata": {
        "colab": {
          "base_uri": "https://localhost:8080/"
        },
        "id": "W77-q2x1C8TD",
        "outputId": "9d2ac0b2-3579-4ca3-aff7-d08bd552243a"
      },
      "execution_count": 21,
      "outputs": [
        {
          "output_type": "execute_result",
          "data": {
            "text/plain": [
              "tensor([[[0.1874, 0.1201, 0.8769, 0.8250],\n",
              "         [0.7625, 0.4535, 0.3684, 0.3703],\n",
              "         [0.1544, 0.0312, 0.0768, 0.8211]]])"
            ]
          },
          "metadata": {},
          "execution_count": 21
        }
      ]
    },
    {
      "cell_type": "code",
      "source": [
        "random_num.ndim"
      ],
      "metadata": {
        "colab": {
          "base_uri": "https://localhost:8080/"
        },
        "id": "yh2hrx7vDT4w",
        "outputId": "df120574-52b4-4e74-d60c-a09ba0958e7b"
      },
      "execution_count": 22,
      "outputs": [
        {
          "output_type": "execute_result",
          "data": {
            "text/plain": [
              "3"
            ]
          },
          "metadata": {},
          "execution_count": 22
        }
      ]
    },
    {
      "cell_type": "code",
      "source": [
        "random_tensor=torch.rand(5,6)\n",
        "random_tensor"
      ],
      "metadata": {
        "colab": {
          "base_uri": "https://localhost:8080/"
        },
        "id": "txP6EQ_1FeCW",
        "outputId": "e8f79ecb-426a-43d5-fced-85a5bc8e5f9a"
      },
      "execution_count": 23,
      "outputs": [
        {
          "output_type": "execute_result",
          "data": {
            "text/plain": [
              "tensor([[0.7866, 0.7114, 0.0589, 0.5186, 0.3511, 0.4874],\n",
              "        [0.6789, 0.7182, 0.1492, 0.2925, 0.6887, 0.3730],\n",
              "        [0.1120, 0.7893, 0.3437, 0.3320, 0.9435, 0.2762],\n",
              "        [0.3424, 0.3040, 0.5014, 0.3246, 0.7022, 0.5354],\n",
              "        [0.8356, 0.7962, 0.0695, 0.9908, 0.0534, 0.8124]])"
            ]
          },
          "metadata": {},
          "execution_count": 23
        }
      ]
    },
    {
      "cell_type": "code",
      "source": [
        "random_tensor.ndim"
      ],
      "metadata": {
        "colab": {
          "base_uri": "https://localhost:8080/"
        },
        "id": "eLcAhL-DFnIC",
        "outputId": "616f224e-957d-45b7-b955-c47c82815e4d"
      },
      "execution_count": 24,
      "outputs": [
        {
          "output_type": "execute_result",
          "data": {
            "text/plain": [
              "2"
            ]
          },
          "metadata": {},
          "execution_count": 24
        }
      ]
    },
    {
      "cell_type": "code",
      "source": [
        "random_tensor.shape"
      ],
      "metadata": {
        "colab": {
          "base_uri": "https://localhost:8080/"
        },
        "id": "xF_IRCvWFjVR",
        "outputId": "80be9d7d-4c5b-4c2a-9e1b-ccade61f20ca"
      },
      "execution_count": 25,
      "outputs": [
        {
          "output_type": "execute_result",
          "data": {
            "text/plain": [
              "torch.Size([5, 6])"
            ]
          },
          "metadata": {},
          "execution_count": 25
        }
      ]
    },
    {
      "cell_type": "markdown",
      "source": [
        "## Creating a random tensor with similar to an image"
      ],
      "metadata": {
        "id": "eMhXkW7YDi_z"
      }
    },
    {
      "cell_type": "code",
      "source": [
        "random_image_tensor=torch.rand(size=(3,224,224))  # Height,width,color channels(red,green,blue)\n",
        "random_image_tensor"
      ],
      "metadata": {
        "colab": {
          "base_uri": "https://localhost:8080/"
        },
        "collapsed": true,
        "id": "ixh9kk2gDVxC",
        "outputId": "6d2e91fc-b37b-403d-9732-3e351c73b0d2"
      },
      "execution_count": 26,
      "outputs": [
        {
          "output_type": "execute_result",
          "data": {
            "text/plain": [
              "tensor([[[0.1857, 0.6282, 0.1348,  ..., 0.7242, 0.5401, 0.6832],\n",
              "         [0.5603, 0.4825, 0.6250,  ..., 0.9016, 0.4641, 0.5593],\n",
              "         [0.2994, 0.0814, 0.1278,  ..., 0.6921, 0.3573, 0.8579],\n",
              "         ...,\n",
              "         [0.0235, 0.6152, 0.6106,  ..., 0.4308, 0.4646, 0.2562],\n",
              "         [0.7681, 0.2474, 0.7364,  ..., 0.1781, 0.1615, 0.1878],\n",
              "         [0.8172, 0.6146, 0.5874,  ..., 0.3801, 0.4018, 0.2169]],\n",
              "\n",
              "        [[0.4042, 0.2600, 0.5491,  ..., 0.2270, 0.6679, 0.4779],\n",
              "         [0.0250, 0.2545, 0.1763,  ..., 0.5315, 0.0293, 0.0236],\n",
              "         [0.4400, 0.5516, 0.1509,  ..., 0.0443, 0.5044, 0.3194],\n",
              "         ...,\n",
              "         [0.7688, 0.0512, 0.2622,  ..., 0.4259, 0.0935, 0.5048],\n",
              "         [0.3708, 0.6846, 0.2015,  ..., 0.7929, 0.0948, 0.6292],\n",
              "         [0.5018, 0.2299, 0.8175,  ..., 0.1426, 0.3759, 0.0237]],\n",
              "\n",
              "        [[0.9555, 0.4859, 0.0693,  ..., 0.9565, 0.7227, 0.9108],\n",
              "         [0.6365, 0.8734, 0.7129,  ..., 0.9724, 0.2929, 0.2466],\n",
              "         [0.2136, 0.5254, 0.8391,  ..., 0.3090, 0.7649, 0.7721],\n",
              "         ...,\n",
              "         [0.1186, 0.8396, 0.2415,  ..., 0.8852, 0.8844, 0.0135],\n",
              "         [0.7168, 0.3880, 0.8114,  ..., 0.7650, 0.4861, 0.2893],\n",
              "         [0.1272, 0.4775, 0.0227,  ..., 0.0411, 0.0162, 0.5684]]])"
            ]
          },
          "metadata": {},
          "execution_count": 26
        }
      ]
    },
    {
      "cell_type": "code",
      "source": [
        "random_image_tensor.shape"
      ],
      "metadata": {
        "colab": {
          "base_uri": "https://localhost:8080/"
        },
        "id": "q2pk1YepDwL9",
        "outputId": "1cd45ebd-37c1-467b-e3b7-5a02e2fcab55"
      },
      "execution_count": 27,
      "outputs": [
        {
          "output_type": "execute_result",
          "data": {
            "text/plain": [
              "torch.Size([3, 224, 224])"
            ]
          },
          "metadata": {},
          "execution_count": 27
        }
      ]
    },
    {
      "cell_type": "code",
      "source": [
        "random_image_tensor.ndim"
      ],
      "metadata": {
        "colab": {
          "base_uri": "https://localhost:8080/"
        },
        "id": "GaXZ6fCxEAs1",
        "outputId": "abb3eaed-f25a-464e-9734-e02756b8f334"
      },
      "execution_count": 28,
      "outputs": [
        {
          "output_type": "execute_result",
          "data": {
            "text/plain": [
              "3"
            ]
          },
          "metadata": {},
          "execution_count": 28
        }
      ]
    },
    {
      "cell_type": "markdown",
      "source": [
        "### Zero tensors"
      ],
      "metadata": {
        "id": "cr6qZsdpGKZn"
      }
    },
    {
      "cell_type": "code",
      "source": [
        "zeros=torch.zeros(size=(3,4))\n",
        "zeros"
      ],
      "metadata": {
        "colab": {
          "base_uri": "https://localhost:8080/"
        },
        "id": "1lTojoNdGMA-",
        "outputId": "c5906313-6d64-4da7-a8a4-fbda2211339a"
      },
      "execution_count": 29,
      "outputs": [
        {
          "output_type": "execute_result",
          "data": {
            "text/plain": [
              "tensor([[0., 0., 0., 0.],\n",
              "        [0., 0., 0., 0.],\n",
              "        [0., 0., 0., 0.]])"
            ]
          },
          "metadata": {},
          "execution_count": 29
        }
      ]
    },
    {
      "cell_type": "code",
      "source": [
        "zeros*random_numbers"
      ],
      "metadata": {
        "colab": {
          "base_uri": "https://localhost:8080/"
        },
        "id": "ZKE3LMFaGR6l",
        "outputId": "0eedfdf9-f1e7-455e-89a6-cbdbe879374d"
      },
      "execution_count": 30,
      "outputs": [
        {
          "output_type": "execute_result",
          "data": {
            "text/plain": [
              "tensor([[0., 0., 0., 0.],\n",
              "        [0., 0., 0., 0.],\n",
              "        [0., 0., 0., 0.]])"
            ]
          },
          "metadata": {},
          "execution_count": 30
        }
      ]
    },
    {
      "cell_type": "code",
      "source": [
        "sample=torch.zeros(size=(5,4))\n",
        "print(sample)\n",
        "print(sample.shape)\n",
        "print(sample.ndim)"
      ],
      "metadata": {
        "colab": {
          "base_uri": "https://localhost:8080/"
        },
        "id": "e-kH3FSnHXat",
        "outputId": "13d31800-5236-462b-c720-1db5ff973c91"
      },
      "execution_count": 31,
      "outputs": [
        {
          "output_type": "stream",
          "name": "stdout",
          "text": [
            "tensor([[0., 0., 0., 0.],\n",
            "        [0., 0., 0., 0.],\n",
            "        [0., 0., 0., 0.],\n",
            "        [0., 0., 0., 0.],\n",
            "        [0., 0., 0., 0.]])\n",
            "torch.Size([5, 4])\n",
            "2\n"
          ]
        }
      ]
    },
    {
      "cell_type": "markdown",
      "source": [
        "### Ones tensors"
      ],
      "metadata": {
        "id": "4trE420qGWZ0"
      }
    },
    {
      "cell_type": "code",
      "source": [
        "ones=torch.ones(size=(3,4))\n",
        "ones"
      ],
      "metadata": {
        "colab": {
          "base_uri": "https://localhost:8080/"
        },
        "id": "RcVrzw7QGZVW",
        "outputId": "532d5e71-2395-444d-8cc4-eb42dab3bbc0"
      },
      "execution_count": 32,
      "outputs": [
        {
          "output_type": "execute_result",
          "data": {
            "text/plain": [
              "tensor([[1., 1., 1., 1.],\n",
              "        [1., 1., 1., 1.],\n",
              "        [1., 1., 1., 1.]])"
            ]
          },
          "metadata": {},
          "execution_count": 32
        }
      ]
    },
    {
      "cell_type": "code",
      "source": [
        "ones*random_numbers"
      ],
      "metadata": {
        "colab": {
          "base_uri": "https://localhost:8080/"
        },
        "id": "gfpqwPVgGfzF",
        "outputId": "36ea9246-fd01-43ff-8f08-bb9d09faed09"
      },
      "execution_count": 33,
      "outputs": [
        {
          "output_type": "execute_result",
          "data": {
            "text/plain": [
              "tensor([[0.3263, 0.5907, 0.4142, 0.1666],\n",
              "        [0.7741, 0.2555, 0.7292, 0.5174],\n",
              "        [0.8869, 0.4893, 0.2930, 0.8991]])"
            ]
          },
          "metadata": {},
          "execution_count": 33
        }
      ]
    },
    {
      "cell_type": "code",
      "source": [
        "ones.dtype"
      ],
      "metadata": {
        "colab": {
          "base_uri": "https://localhost:8080/"
        },
        "id": "qhYVqLKzGq5Y",
        "outputId": "2b9eda7c-cce5-46c7-e470-dc1011e101c5"
      },
      "execution_count": 34,
      "outputs": [
        {
          "output_type": "execute_result",
          "data": {
            "text/plain": [
              "torch.float32"
            ]
          },
          "metadata": {},
          "execution_count": 34
        }
      ]
    },
    {
      "cell_type": "code",
      "source": [
        "zeros.dtype"
      ],
      "metadata": {
        "colab": {
          "base_uri": "https://localhost:8080/"
        },
        "id": "GoTtGQ6vG43-",
        "outputId": "de65a24f-791c-44df-c2e1-ba4eb7ca983e"
      },
      "execution_count": 35,
      "outputs": [
        {
          "output_type": "execute_result",
          "data": {
            "text/plain": [
              "torch.float32"
            ]
          },
          "metadata": {},
          "execution_count": 35
        }
      ]
    },
    {
      "cell_type": "code",
      "source": [
        "sample=torch.ones(size=(5,4))\n",
        "print(sample)\n",
        "print(sample.ndim)\n",
        "print(sample.shape)"
      ],
      "metadata": {
        "colab": {
          "base_uri": "https://localhost:8080/"
        },
        "id": "VXRZVVGZG6es",
        "outputId": "0ff5d89c-24cd-49cc-f9f6-ccd00b062faf"
      },
      "execution_count": 36,
      "outputs": [
        {
          "output_type": "stream",
          "name": "stdout",
          "text": [
            "tensor([[1., 1., 1., 1.],\n",
            "        [1., 1., 1., 1.],\n",
            "        [1., 1., 1., 1.],\n",
            "        [1., 1., 1., 1.],\n",
            "        [1., 1., 1., 1.]])\n",
            "2\n",
            "torch.Size([5, 4])\n"
          ]
        }
      ]
    },
    {
      "cell_type": "markdown",
      "source": [
        "## Creating a range of tensors and tensors like"
      ],
      "metadata": {
        "id": "vpPIoeumHzXO"
      }
    },
    {
      "cell_type": "code",
      "source": [
        "one_to_ten=torch.arange(0,10,1)\n",
        "one_to_ten"
      ],
      "metadata": {
        "colab": {
          "base_uri": "https://localhost:8080/"
        },
        "id": "_ARAgbY5HsTf",
        "outputId": "5aa68911-3dcd-4aa8-fece-80d75ef8ae49"
      },
      "execution_count": 37,
      "outputs": [
        {
          "output_type": "execute_result",
          "data": {
            "text/plain": [
              "tensor([0, 1, 2, 3, 4, 5, 6, 7, 8, 9])"
            ]
          },
          "metadata": {},
          "execution_count": 37
        }
      ]
    },
    {
      "cell_type": "markdown",
      "source": [
        "## Creating tensor like"
      ],
      "metadata": {
        "id": "cANbOjnMIjCG"
      }
    },
    {
      "cell_type": "code",
      "source": [
        "ten_zeros=torch.zeros_like(input=one_to_ten)\n",
        "ten_zeros"
      ],
      "metadata": {
        "colab": {
          "base_uri": "https://localhost:8080/"
        },
        "id": "GwUo3U_-H-Bw",
        "outputId": "e6531eb8-7dbc-4617-e637-93e687498018"
      },
      "execution_count": 38,
      "outputs": [
        {
          "output_type": "execute_result",
          "data": {
            "text/plain": [
              "tensor([0, 0, 0, 0, 0, 0, 0, 0, 0, 0])"
            ]
          },
          "metadata": {},
          "execution_count": 38
        }
      ]
    },
    {
      "cell_type": "code",
      "source": [
        "random_numbers"
      ],
      "metadata": {
        "colab": {
          "base_uri": "https://localhost:8080/"
        },
        "id": "7sXX2rgpJCSI",
        "outputId": "12bdd726-2c13-475c-9ee7-0ece3354ca04"
      },
      "execution_count": 39,
      "outputs": [
        {
          "output_type": "execute_result",
          "data": {
            "text/plain": [
              "tensor([[0.3263, 0.5907, 0.4142, 0.1666],\n",
              "        [0.7741, 0.2555, 0.7292, 0.5174],\n",
              "        [0.8869, 0.4893, 0.2930, 0.8991]])"
            ]
          },
          "metadata": {},
          "execution_count": 39
        }
      ]
    },
    {
      "cell_type": "code",
      "source": [
        "zero_random_numbers=torch.zeros_like(input=random_numbers)\n",
        "zero_random_numbers"
      ],
      "metadata": {
        "colab": {
          "base_uri": "https://localhost:8080/"
        },
        "id": "I4PookqMI-ts",
        "outputId": "6e9e529d-eeb6-4a77-8b79-dc2f0cab09f1"
      },
      "execution_count": 40,
      "outputs": [
        {
          "output_type": "execute_result",
          "data": {
            "text/plain": [
              "tensor([[0., 0., 0., 0.],\n",
              "        [0., 0., 0., 0.],\n",
              "        [0., 0., 0., 0.]])"
            ]
          },
          "metadata": {},
          "execution_count": 40
        }
      ]
    },
    {
      "cell_type": "markdown",
      "source": [
        "## Creating ones like"
      ],
      "metadata": {
        "id": "wPFcTtevJyk6"
      }
    },
    {
      "cell_type": "code",
      "source": [
        "ones_random_numbers=torch.ones_like(input=random_numbers)\n",
        "ones_random_numbers"
      ],
      "metadata": {
        "colab": {
          "base_uri": "https://localhost:8080/"
        },
        "id": "Om7yXELjJL_j",
        "outputId": "4bce157d-6785-4d27-e350-9d2c4b84c902"
      },
      "execution_count": 41,
      "outputs": [
        {
          "output_type": "execute_result",
          "data": {
            "text/plain": [
              "tensor([[1., 1., 1., 1.],\n",
              "        [1., 1., 1., 1.],\n",
              "        [1., 1., 1., 1.]])"
            ]
          },
          "metadata": {},
          "execution_count": 41
        }
      ]
    },
    {
      "cell_type": "markdown",
      "source": [
        "## Creating rand like"
      ],
      "metadata": {
        "id": "okAEt-h6J15d"
      }
    },
    {
      "cell_type": "code",
      "source": [
        "random_random_like=torch.rand_like(input=ones_random_numbers)\n",
        "random_random_like"
      ],
      "metadata": {
        "colab": {
          "base_uri": "https://localhost:8080/"
        },
        "id": "vz7kSnbnJWP7",
        "outputId": "bc40f8f4-0fd7-40c8-b0a2-8d05c8aec93b"
      },
      "execution_count": 42,
      "outputs": [
        {
          "output_type": "execute_result",
          "data": {
            "text/plain": [
              "tensor([[0.9849, 0.7372, 0.4847, 0.9659],\n",
              "        [0.1903, 0.9158, 0.5348, 0.0760],\n",
              "        [0.8611, 0.8779, 0.4487, 0.2931]])"
            ]
          },
          "metadata": {},
          "execution_count": 42
        }
      ]
    },
    {
      "cell_type": "markdown",
      "source": [
        "## Tensor Data type"
      ],
      "metadata": {
        "id": "lkUkMOj7MwQE"
      }
    },
    {
      "cell_type": "code",
      "source": [
        "# Float 32 tensor\n",
        "\n",
        "float_32_dtype=torch.tensor([3.0,6.0,9.0],dtype=None)\n",
        "float_32_dtype"
      ],
      "metadata": {
        "colab": {
          "base_uri": "https://localhost:8080/"
        },
        "id": "mX1HL_fZJwLz",
        "outputId": "1d7ec856-44ba-4ab6-dd21-93d666570096"
      },
      "execution_count": 43,
      "outputs": [
        {
          "output_type": "execute_result",
          "data": {
            "text/plain": [
              "tensor([3., 6., 9.])"
            ]
          },
          "metadata": {},
          "execution_count": 43
        }
      ]
    },
    {
      "cell_type": "code",
      "source": [
        "float_32_dtype.dtype"
      ],
      "metadata": {
        "colab": {
          "base_uri": "https://localhost:8080/"
        },
        "id": "AMqUp_P4RZZ9",
        "outputId": "0986a4d2-219a-4375-9be8-09339cceee90"
      },
      "execution_count": 44,
      "outputs": [
        {
          "output_type": "execute_result",
          "data": {
            "text/plain": [
              "torch.float32"
            ]
          },
          "metadata": {},
          "execution_count": 44
        }
      ]
    },
    {
      "cell_type": "code",
      "source": [
        "# Float 16 tensor\n",
        "\n",
        "float_16_dtype=torch.tensor([3.0,6.0,9.0],\n",
        "                            dtype=torch.float16,   # Data type of the tensors\n",
        "                            device=None,           # what device is your tensor on\n",
        "                            requires_grad=False)   # whether to track or not to track gradient with tensor operation\n",
        "print(float_16_dtype)\n",
        "print(float_16_dtype.dtype)"
      ],
      "metadata": {
        "colab": {
          "base_uri": "https://localhost:8080/"
        },
        "id": "5EXE8ik2RyZd",
        "outputId": "1b044ab1-739d-4d95-f697-a65b6d38a2c7"
      },
      "execution_count": 45,
      "outputs": [
        {
          "output_type": "stream",
          "name": "stdout",
          "text": [
            "tensor([3., 6., 9.], dtype=torch.float16)\n",
            "torch.float16\n"
          ]
        }
      ]
    },
    {
      "cell_type": "markdown",
      "source": [
        "## Converting float 32 to float 16"
      ],
      "metadata": {
        "id": "tx7zhI5jUvim"
      }
    },
    {
      "cell_type": "code",
      "source": [
        "float_16_dtype=float_32_dtype.type(torch.float16)\n",
        "float_16_dtype"
      ],
      "metadata": {
        "colab": {
          "base_uri": "https://localhost:8080/"
        },
        "id": "AEv2sGKnUGwI",
        "outputId": "553e681f-df17-4430-87ea-a9c4b08960ed"
      },
      "execution_count": 46,
      "outputs": [
        {
          "output_type": "execute_result",
          "data": {
            "text/plain": [
              "tensor([3., 6., 9.], dtype=torch.float16)"
            ]
          },
          "metadata": {},
          "execution_count": 46
        }
      ]
    },
    {
      "cell_type": "code",
      "source": [
        "float_16_dtype.dtype"
      ],
      "metadata": {
        "colab": {
          "base_uri": "https://localhost:8080/"
        },
        "id": "3vlg91C9U_cg",
        "outputId": "40441462-9981-42d7-835a-61613011c892"
      },
      "execution_count": 47,
      "outputs": [
        {
          "output_type": "execute_result",
          "data": {
            "text/plain": [
              "torch.float16"
            ]
          },
          "metadata": {},
          "execution_count": 47
        }
      ]
    },
    {
      "cell_type": "code",
      "source": [
        "float_32_dtype*float_16_dtype"
      ],
      "metadata": {
        "colab": {
          "base_uri": "https://localhost:8080/"
        },
        "id": "Q6_BNAAbXyju",
        "outputId": "3db22bd0-70b1-489a-a4a2-e2aecbb47fae"
      },
      "execution_count": 48,
      "outputs": [
        {
          "output_type": "execute_result",
          "data": {
            "text/plain": [
              "tensor([ 9., 36., 81.])"
            ]
          },
          "metadata": {},
          "execution_count": 48
        }
      ]
    },
    {
      "cell_type": "markdown",
      "source": [
        "#### Creating tensors with int"
      ],
      "metadata": {
        "id": "amH-zSneYl06"
      }
    },
    {
      "cell_type": "code",
      "source": [
        "int_tensors=torch.tensor([1,2,3,4],dtype=torch.int16)\n",
        "int_tensors"
      ],
      "metadata": {
        "colab": {
          "base_uri": "https://localhost:8080/"
        },
        "id": "rI5XKNI4X4qv",
        "outputId": "ed570e08-8754-42c2-cb0b-e28db8e677d2"
      },
      "execution_count": 49,
      "outputs": [
        {
          "output_type": "execute_result",
          "data": {
            "text/plain": [
              "tensor([1, 2, 3, 4], dtype=torch.int16)"
            ]
          },
          "metadata": {},
          "execution_count": 49
        }
      ]
    },
    {
      "cell_type": "markdown",
      "source": [
        "### Converting float-32 to int-16"
      ],
      "metadata": {
        "id": "xuTCbJ8PZNOV"
      }
    },
    {
      "cell_type": "code",
      "source": [
        "converted_int_32=float_32_dtype.type(torch.int16)"
      ],
      "metadata": {
        "id": "3oDjdfrTY0AN"
      },
      "execution_count": 50,
      "outputs": []
    },
    {
      "cell_type": "code",
      "source": [
        "converted_int_32"
      ],
      "metadata": {
        "colab": {
          "base_uri": "https://localhost:8080/"
        },
        "id": "0fLnyUVSZC9_",
        "outputId": "2d3d034b-159e-414b-9daa-32b71d174845"
      },
      "execution_count": 51,
      "outputs": [
        {
          "output_type": "execute_result",
          "data": {
            "text/plain": [
              "tensor([3, 6, 9], dtype=torch.int16)"
            ]
          },
          "metadata": {},
          "execution_count": 51
        }
      ]
    },
    {
      "cell_type": "code",
      "source": [
        "int_32_dtype=torch.tensor([1,2,3],dtype=torch.int32)\n",
        "int_32_dtype"
      ],
      "metadata": {
        "colab": {
          "base_uri": "https://localhost:8080/"
        },
        "id": "e98JXacXZL_x",
        "outputId": "588a5c10-569b-4738-a7eb-027341adf0fa"
      },
      "execution_count": 52,
      "outputs": [
        {
          "output_type": "execute_result",
          "data": {
            "text/plain": [
              "tensor([1, 2, 3], dtype=torch.int32)"
            ]
          },
          "metadata": {},
          "execution_count": 52
        }
      ]
    },
    {
      "cell_type": "markdown",
      "source": [
        "### Multiplying float 32 and int 32"
      ],
      "metadata": {
        "id": "GRTKPnY2Z-cr"
      }
    },
    {
      "cell_type": "code",
      "source": [
        "float_32_dtype*int_32_dtype"
      ],
      "metadata": {
        "colab": {
          "base_uri": "https://localhost:8080/"
        },
        "id": "WrUWkMqhZ55X",
        "outputId": "4a692b4c-0e08-4775-d03d-066e1b040ceb"
      },
      "execution_count": 53,
      "outputs": [
        {
          "output_type": "execute_result",
          "data": {
            "text/plain": [
              "tensor([ 3., 12., 27.])"
            ]
          },
          "metadata": {},
          "execution_count": 53
        }
      ]
    },
    {
      "cell_type": "markdown",
      "source": [
        "# Getting information from tensors"
      ],
      "metadata": {
        "id": "DgHI8YezbH8q"
      }
    },
    {
      "cell_type": "code",
      "source": [
        "sample_tensor=torch.rand(size=(3,4))\n",
        "sample_tensor"
      ],
      "metadata": {
        "colab": {
          "base_uri": "https://localhost:8080/"
        },
        "id": "ghQh4z3OZ9Vi",
        "outputId": "ce3cceaf-6d96-4f7f-9679-73b4fe17a794"
      },
      "execution_count": 54,
      "outputs": [
        {
          "output_type": "execute_result",
          "data": {
            "text/plain": [
              "tensor([[0.7627, 0.1484, 0.6078, 0.7647],\n",
              "        [0.0610, 0.0212, 0.9221, 0.7703],\n",
              "        [0.8511, 0.6170, 0.0463, 0.2862]])"
            ]
          },
          "metadata": {},
          "execution_count": 54
        }
      ]
    },
    {
      "cell_type": "code",
      "source": [
        "print(f\"datatype : {sample_tensor.dtype}\")\n",
        "print(f\"shape : {sample_tensor.shape}\")\n",
        "print(f\"device :  {sample_tensor.device}\")\n"
      ],
      "metadata": {
        "colab": {
          "base_uri": "https://localhost:8080/"
        },
        "id": "Y_J7VhXJbYMv",
        "outputId": "81000593-3f91-433d-a95a-5231cb993aa1"
      },
      "execution_count": 55,
      "outputs": [
        {
          "output_type": "stream",
          "name": "stdout",
          "text": [
            "datatype : torch.float32\n",
            "shape : torch.Size([3, 4])\n",
            "device :  cpu\n"
          ]
        }
      ]
    },
    {
      "cell_type": "code",
      "source": [
        "sample_tensor=sample_tensor.type(torch.float16)"
      ],
      "metadata": {
        "id": "doP-exNO7X_x"
      },
      "execution_count": 56,
      "outputs": []
    },
    {
      "cell_type": "code",
      "source": [
        "print(f\"datatype : {sample_tensor.dtype}\")\n",
        "print(f\"shape : {sample_tensor.shape}\")\n",
        "print(f\"device :  {sample_tensor.device}\")"
      ],
      "metadata": {
        "colab": {
          "base_uri": "https://localhost:8080/"
        },
        "id": "fnpSTEVY7faA",
        "outputId": "73c5cc2b-5c34-4fc6-b4e6-ce325a3edb57"
      },
      "execution_count": 57,
      "outputs": [
        {
          "output_type": "stream",
          "name": "stdout",
          "text": [
            "datatype : torch.float16\n",
            "shape : torch.Size([3, 4])\n",
            "device :  cpu\n"
          ]
        }
      ]
    },
    {
      "cell_type": "markdown",
      "source": [
        "### Manipulating tensors\n",
        "Addition\n",
        "\n",
        "Subtraction\n",
        "\n",
        "Multiplication\n",
        "\n",
        "Division\n",
        "\n",
        "Matrix multiplication\n"
      ],
      "metadata": {
        "id": "WEhUMqK07Lo-"
      }
    },
    {
      "cell_type": "code",
      "source": [
        "# create a tensor\n",
        "\n",
        "tensor=torch.tensor([1,2,3])"
      ],
      "metadata": {
        "id": "BuS_lSDlbpv8"
      },
      "execution_count": 58,
      "outputs": []
    },
    {
      "cell_type": "code",
      "source": [
        "# Adding 10 to tensor\n",
        "\n",
        "tensor+10"
      ],
      "metadata": {
        "colab": {
          "base_uri": "https://localhost:8080/"
        },
        "id": "ri-r0fw89qM9",
        "outputId": "898b198c-b733-4cc8-8f58-f7a90937d9a1"
      },
      "execution_count": 59,
      "outputs": [
        {
          "output_type": "execute_result",
          "data": {
            "text/plain": [
              "tensor([11, 12, 13])"
            ]
          },
          "metadata": {},
          "execution_count": 59
        }
      ]
    },
    {
      "cell_type": "code",
      "source": [
        "# Subtracting 10 from tensor\n",
        "\n",
        "tensor-10"
      ],
      "metadata": {
        "colab": {
          "base_uri": "https://localhost:8080/"
        },
        "id": "w_MwfDwR9sDs",
        "outputId": "885ec052-660b-4ae2-9e4f-7d75863cccbb"
      },
      "execution_count": 60,
      "outputs": [
        {
          "output_type": "execute_result",
          "data": {
            "text/plain": [
              "tensor([-9, -8, -7])"
            ]
          },
          "metadata": {},
          "execution_count": 60
        }
      ]
    },
    {
      "cell_type": "code",
      "source": [
        "# Multiplying 10 to tensor\n",
        "\n",
        "tensor*10"
      ],
      "metadata": {
        "colab": {
          "base_uri": "https://localhost:8080/"
        },
        "id": "X7SxUtn89tmw",
        "outputId": "cc15ec59-ff59-4053-fc88-1237e72b03af"
      },
      "execution_count": 61,
      "outputs": [
        {
          "output_type": "execute_result",
          "data": {
            "text/plain": [
              "tensor([10, 20, 30])"
            ]
          },
          "metadata": {},
          "execution_count": 61
        }
      ]
    },
    {
      "cell_type": "code",
      "source": [
        "# Try in-built functions\n",
        "\n",
        "torch.mul(tensor,10)"
      ],
      "metadata": {
        "colab": {
          "base_uri": "https://localhost:8080/"
        },
        "id": "SCW2o8hx98Dt",
        "outputId": "fd3082b0-a426-421c-d3e2-e4fdef14369c"
      },
      "execution_count": 62,
      "outputs": [
        {
          "output_type": "execute_result",
          "data": {
            "text/plain": [
              "tensor([10, 20, 30])"
            ]
          },
          "metadata": {},
          "execution_count": 62
        }
      ]
    },
    {
      "cell_type": "code",
      "source": [
        "torch.sub(tensor,10)"
      ],
      "metadata": {
        "colab": {
          "base_uri": "https://localhost:8080/"
        },
        "id": "5Eyz5Voy-NcS",
        "outputId": "5718297f-26f5-4046-d297-01cb9bd3b44c"
      },
      "execution_count": 63,
      "outputs": [
        {
          "output_type": "execute_result",
          "data": {
            "text/plain": [
              "tensor([-9, -8, -7])"
            ]
          },
          "metadata": {},
          "execution_count": 63
        }
      ]
    },
    {
      "cell_type": "code",
      "source": [
        "torch.add(tensor,10)"
      ],
      "metadata": {
        "colab": {
          "base_uri": "https://localhost:8080/"
        },
        "id": "JAXnEgWm-Rld",
        "outputId": "a08485c8-299c-445a-e067-193670e4a470"
      },
      "execution_count": 64,
      "outputs": [
        {
          "output_type": "execute_result",
          "data": {
            "text/plain": [
              "tensor([11, 12, 13])"
            ]
          },
          "metadata": {},
          "execution_count": 64
        }
      ]
    },
    {
      "cell_type": "markdown",
      "source": [
        "## Matrix multiplication\n",
        "\n",
        "#### Two Ways to perform\n",
        " 1.Element wise multiplication\n",
        "\n",
        " 2.Matrix multiplication"
      ],
      "metadata": {
        "id": "aifo47kxAi-I"
      }
    },
    {
      "cell_type": "code",
      "source": [
        "# Element wise multiplication\n",
        "\n",
        "print(f\"{tensor} * {tensor}\")\n",
        "print(tensor*tensor)"
      ],
      "metadata": {
        "colab": {
          "base_uri": "https://localhost:8080/"
        },
        "id": "-_KxZ54Z-Ttf",
        "outputId": "94150ccf-6993-4506-a5fa-9d913fb27e64"
      },
      "execution_count": 65,
      "outputs": [
        {
          "output_type": "stream",
          "name": "stdout",
          "text": [
            "tensor([1, 2, 3]) * tensor([1, 2, 3])\n",
            "tensor([1, 4, 9])\n"
          ]
        }
      ]
    },
    {
      "cell_type": "code",
      "source": [
        "# Matrix multiplication\n",
        "\n",
        "torch.matmul(tensor,tensor)"
      ],
      "metadata": {
        "colab": {
          "base_uri": "https://localhost:8080/"
        },
        "id": "uj8I4tjNB8_Z",
        "outputId": "8dd6aa3f-811b-4b54-cc04-6b18a036b3ab"
      },
      "execution_count": 66,
      "outputs": [
        {
          "output_type": "execute_result",
          "data": {
            "text/plain": [
              "tensor(14)"
            ]
          },
          "metadata": {},
          "execution_count": 66
        }
      ]
    },
    {
      "cell_type": "code",
      "source": [
        "m=torch.tensor([[[2,3,4],[5,6,7],[8,9,8]]])\n",
        "n=torch.tensor([[[4,5,6],[6,5,9],[1,2,3]]])\n",
        "ans=torch.matmul(m,n)\n",
        "\n",
        "ans"
      ],
      "metadata": {
        "colab": {
          "base_uri": "https://localhost:8080/"
        },
        "id": "aXcnfogfCUp8",
        "outputId": "9c15f010-015a-4133-869d-8052be95fc31"
      },
      "execution_count": 67,
      "outputs": [
        {
          "output_type": "execute_result",
          "data": {
            "text/plain": [
              "tensor([[[ 30,  33,  51],\n",
              "         [ 63,  69, 105],\n",
              "         [ 94, 101, 153]]])"
            ]
          },
          "metadata": {},
          "execution_count": 67
        }
      ]
    },
    {
      "cell_type": "code",
      "source": [
        "ans.ndim"
      ],
      "metadata": {
        "colab": {
          "base_uri": "https://localhost:8080/"
        },
        "id": "w4jWY_-_Cx3s",
        "outputId": "d3c0171d-f933-46f3-9aa2-fa9f0635efa2"
      },
      "execution_count": 68,
      "outputs": [
        {
          "output_type": "execute_result",
          "data": {
            "text/plain": [
              "3"
            ]
          },
          "metadata": {},
          "execution_count": 68
        }
      ]
    },
    {
      "cell_type": "code",
      "source": [
        "# matrix multiplication\n",
        "\n",
        "%%time\n",
        "value=0\n",
        "for i in range(len(tensor)):\n",
        "  value+=tensor[i]*tensor[i]\n",
        "print(value)"
      ],
      "metadata": {
        "colab": {
          "base_uri": "https://localhost:8080/"
        },
        "id": "mF0IH7t8C6gw",
        "outputId": "6b4cffd1-c91f-4538-e97e-67fd0f8bb89b"
      },
      "execution_count": 69,
      "outputs": [
        {
          "output_type": "stream",
          "name": "stdout",
          "text": [
            "tensor(14)\n",
            "CPU times: user 963 µs, sys: 1.08 ms, total: 2.04 ms\n",
            "Wall time: 3.1 ms\n"
          ]
        }
      ]
    },
    {
      "cell_type": "code",
      "source": [
        "%%time\n",
        "torch.matmul(tensor,tensor)"
      ],
      "metadata": {
        "colab": {
          "base_uri": "https://localhost:8080/"
        },
        "id": "IUiLymfQEOBk",
        "outputId": "a5a1dda8-ff15-49f5-db1b-9dd98bdcf665"
      },
      "execution_count": 70,
      "outputs": [
        {
          "output_type": "stream",
          "name": "stdout",
          "text": [
            "CPU times: user 454 µs, sys: 798 µs, total: 1.25 ms\n",
            "Wall time: 1.45 ms\n"
          ]
        },
        {
          "output_type": "execute_result",
          "data": {
            "text/plain": [
              "tensor(14)"
            ]
          },
          "metadata": {},
          "execution_count": 70
        }
      ]
    },
    {
      "cell_type": "markdown",
      "source": [
        "### Matrix multiplication --- Two rules\n",
        "\n",
        "##### 1.Inner dimension must match\n",
        "##### 2.Result matrix has shape of outer dimension"
      ],
      "metadata": {
        "id": "KGZtXchHGa2Y"
      }
    },
    {
      "cell_type": "code",
      "source": [
        "torch.matmul(torch.rand(3,4),torch.rand(4,3))"
      ],
      "metadata": {
        "colab": {
          "base_uri": "https://localhost:8080/"
        },
        "id": "swPL-Ao0EWRO",
        "outputId": "45db7dfb-d7d2-4e0a-96a9-5b35209e7f31"
      },
      "execution_count": 71,
      "outputs": [
        {
          "output_type": "execute_result",
          "data": {
            "text/plain": [
              "tensor([[1.6243, 0.6597, 1.4406],\n",
              "        [1.3489, 0.6091, 1.1907],\n",
              "        [1.0898, 0.9318, 0.6189]])"
            ]
          },
          "metadata": {},
          "execution_count": 71
        }
      ]
    },
    {
      "cell_type": "code",
      "source": [
        "torch.matmul(torch.rand(3,4),torch.rand(4,2))"
      ],
      "metadata": {
        "colab": {
          "base_uri": "https://localhost:8080/"
        },
        "id": "qahb0pwgHIBg",
        "outputId": "83e385e1-7855-483e-c55b-d8f2a49db47d"
      },
      "execution_count": 72,
      "outputs": [
        {
          "output_type": "execute_result",
          "data": {
            "text/plain": [
              "tensor([[1.1829, 1.5088],\n",
              "        [0.7751, 1.9749],\n",
              "        [1.2697, 1.4731]])"
            ]
          },
          "metadata": {},
          "execution_count": 72
        }
      ]
    },
    {
      "cell_type": "code",
      "source": [
        "torch.matmul(torch.rand(5,2),torch.rand(2,5))"
      ],
      "metadata": {
        "colab": {
          "base_uri": "https://localhost:8080/"
        },
        "id": "1GwK1nm-HKQJ",
        "outputId": "c0fcbd58-2fc4-4808-ea1e-7e5f517d671d"
      },
      "execution_count": 73,
      "outputs": [
        {
          "output_type": "execute_result",
          "data": {
            "text/plain": [
              "tensor([[0.4287, 0.7861, 0.4334, 0.4903, 0.6140],\n",
              "        [0.6539, 1.3413, 0.7768, 0.8282, 0.9934],\n",
              "        [0.4027, 0.6145, 0.3062, 0.3905, 0.5272],\n",
              "        [0.5636, 0.8940, 0.4563, 0.5658, 0.7513],\n",
              "        [0.3406, 0.8608, 0.5366, 0.5230, 0.5823]])"
            ]
          },
          "metadata": {},
          "execution_count": 73
        }
      ]
    },
    {
      "cell_type": "markdown",
      "source": [
        "# One of the most common errors in deep learning : Shape error"
      ],
      "metadata": {
        "id": "pduQbsl2IHp7"
      }
    },
    {
      "cell_type": "code",
      "source": [
        "# shape for matrix multiplication\n",
        "\n",
        "tensor_A=torch.tensor([[1,2],\n",
        "                       [3,4],\n",
        "                       [5,6]])\n",
        "\n",
        "tensor_b=torch.tensor([[7,10],\n",
        "                       [8,11],\n",
        "                       [9,12]])\n",
        "\n",
        "# torch.mm(tensor_A,tensor_b)"
      ],
      "metadata": {
        "id": "FwJshlgUHUFh"
      },
      "execution_count": 74,
      "outputs": []
    },
    {
      "cell_type": "markdown",
      "source": [
        "## To fix shape issues we transpose the matrix"
      ],
      "metadata": {
        "id": "SDHvlJ3VJ6LK"
      }
    },
    {
      "cell_type": "code",
      "source": [
        "tensor_b.T"
      ],
      "metadata": {
        "colab": {
          "base_uri": "https://localhost:8080/"
        },
        "id": "f6m6ZlrCItpW",
        "outputId": "c02927b7-dc63-48c5-e8a4-07a74b0df9fc"
      },
      "execution_count": 75,
      "outputs": [
        {
          "output_type": "execute_result",
          "data": {
            "text/plain": [
              "tensor([[ 7,  8,  9],\n",
              "        [10, 11, 12]])"
            ]
          },
          "metadata": {},
          "execution_count": 75
        }
      ]
    },
    {
      "cell_type": "code",
      "source": [
        "tensor_b"
      ],
      "metadata": {
        "colab": {
          "base_uri": "https://localhost:8080/"
        },
        "id": "YyyT8mu9J02t",
        "outputId": "e4633e4b-d4a3-4945-a28c-ec2787241b80"
      },
      "execution_count": 76,
      "outputs": [
        {
          "output_type": "execute_result",
          "data": {
            "text/plain": [
              "tensor([[ 7, 10],\n",
              "        [ 8, 11],\n",
              "        [ 9, 12]])"
            ]
          },
          "metadata": {},
          "execution_count": 76
        }
      ]
    },
    {
      "cell_type": "code",
      "source": [
        "tensor_b.T.shape , tensor_b.shape"
      ],
      "metadata": {
        "colab": {
          "base_uri": "https://localhost:8080/"
        },
        "id": "0dLxJK_oKrIv",
        "outputId": "f2092a87-e405-419d-adb8-3cc7af020d8c"
      },
      "execution_count": 77,
      "outputs": [
        {
          "output_type": "execute_result",
          "data": {
            "text/plain": [
              "(torch.Size([2, 3]), torch.Size([3, 2]))"
            ]
          },
          "metadata": {},
          "execution_count": 77
        }
      ]
    },
    {
      "cell_type": "code",
      "source": [
        "torch.mm(tensor_A,tensor_b.T)"
      ],
      "metadata": {
        "colab": {
          "base_uri": "https://localhost:8080/"
        },
        "id": "32rPHb8bJ_xD",
        "outputId": "bd097651-e86e-4b90-ac75-e58b60880a5d"
      },
      "execution_count": 78,
      "outputs": [
        {
          "output_type": "execute_result",
          "data": {
            "text/plain": [
              "tensor([[ 27,  30,  33],\n",
              "        [ 61,  68,  75],\n",
              "        [ 95, 106, 117]])"
            ]
          },
          "metadata": {},
          "execution_count": 78
        }
      ]
    },
    {
      "cell_type": "code",
      "source": [
        "torch.mm(tensor_A,tensor_b.T).shape"
      ],
      "metadata": {
        "colab": {
          "base_uri": "https://localhost:8080/"
        },
        "id": "TK8SylJ9KGX_",
        "outputId": "a641a015-6dae-412d-9c1f-d865fbb4e042"
      },
      "execution_count": 79,
      "outputs": [
        {
          "output_type": "execute_result",
          "data": {
            "text/plain": [
              "torch.Size([3, 3])"
            ]
          },
          "metadata": {},
          "execution_count": 79
        }
      ]
    },
    {
      "cell_type": "markdown",
      "source": [
        "### Tensor Aggregation\n",
        "###  Finding the Min, Max, Sum, Mean, etc"
      ],
      "metadata": {
        "id": "EURDU6nRNRIj"
      }
    },
    {
      "cell_type": "code",
      "source": [
        "# create a tensor\n",
        "\n",
        "x=torch.arange(0,100,10)\n",
        "x"
      ],
      "metadata": {
        "colab": {
          "base_uri": "https://localhost:8080/"
        },
        "id": "6z_EGU1CMPes",
        "outputId": "3ef34192-989d-413c-b634-ba7e734c6159"
      },
      "execution_count": 80,
      "outputs": [
        {
          "output_type": "execute_result",
          "data": {
            "text/plain": [
              "tensor([ 0, 10, 20, 30, 40, 50, 60, 70, 80, 90])"
            ]
          },
          "metadata": {},
          "execution_count": 80
        }
      ]
    },
    {
      "cell_type": "code",
      "source": [
        "# Finding minimum\n",
        "\n",
        "torch.min(x), x.min()"
      ],
      "metadata": {
        "colab": {
          "base_uri": "https://localhost:8080/"
        },
        "id": "4COeaJntN-an",
        "outputId": "411627a0-f005-4f46-f2db-6de1a6862a08"
      },
      "execution_count": 81,
      "outputs": [
        {
          "output_type": "execute_result",
          "data": {
            "text/plain": [
              "(tensor(0), tensor(0))"
            ]
          },
          "metadata": {},
          "execution_count": 81
        }
      ]
    },
    {
      "cell_type": "code",
      "source": [
        "# Finding max\n",
        "\n",
        "torch.max(x), x.max()"
      ],
      "metadata": {
        "colab": {
          "base_uri": "https://localhost:8080/"
        },
        "id": "-EAYoPTkOBZE",
        "outputId": "4c4ac613-0a0d-471d-992d-a2e2def87a91"
      },
      "execution_count": 82,
      "outputs": [
        {
          "output_type": "execute_result",
          "data": {
            "text/plain": [
              "(tensor(90), tensor(90))"
            ]
          },
          "metadata": {},
          "execution_count": 82
        }
      ]
    },
    {
      "cell_type": "code",
      "source": [
        "x.dtype"
      ],
      "metadata": {
        "colab": {
          "base_uri": "https://localhost:8080/"
        },
        "id": "Vo-OgM5POfxH",
        "outputId": "63ed4c64-bf3f-4e6e-bc0b-8b4c8bc3bf58"
      },
      "execution_count": 83,
      "outputs": [
        {
          "output_type": "execute_result",
          "data": {
            "text/plain": [
              "torch.int64"
            ]
          },
          "metadata": {},
          "execution_count": 83
        }
      ]
    },
    {
      "cell_type": "code",
      "source": [
        "# Finding the mean\n",
        "\n",
        "torch.mean(x.type(torch.float32))"
      ],
      "metadata": {
        "colab": {
          "base_uri": "https://localhost:8080/"
        },
        "id": "DozBEkgeOJGI",
        "outputId": "1b579401-1a12-488f-ba38-58c4c0ca8a24"
      },
      "execution_count": 84,
      "outputs": [
        {
          "output_type": "execute_result",
          "data": {
            "text/plain": [
              "tensor(45.)"
            ]
          },
          "metadata": {},
          "execution_count": 84
        }
      ]
    },
    {
      "cell_type": "markdown",
      "source": [
        "##### Mean in torch requires floats of data type"
      ],
      "metadata": {
        "id": "rp0FFJwzd9cz"
      }
    },
    {
      "cell_type": "code",
      "source": [
        "x.type(torch.float32).mean()"
      ],
      "metadata": {
        "colab": {
          "base_uri": "https://localhost:8080/"
        },
        "id": "YjMnA-AhOXVm",
        "outputId": "493c27f7-6a9a-4e70-bc48-6e6f6601f1d8"
      },
      "execution_count": 85,
      "outputs": [
        {
          "output_type": "execute_result",
          "data": {
            "text/plain": [
              "tensor(45.)"
            ]
          },
          "metadata": {},
          "execution_count": 85
        }
      ]
    },
    {
      "cell_type": "code",
      "source": [
        "# Finding sum\n",
        "torch.sum(x), x.sum()"
      ],
      "metadata": {
        "colab": {
          "base_uri": "https://localhost:8080/"
        },
        "id": "al000KulPZap",
        "outputId": "89f8a19b-5d43-4293-e7df-688a65f4dbd9"
      },
      "execution_count": 86,
      "outputs": [
        {
          "output_type": "execute_result",
          "data": {
            "text/plain": [
              "(tensor(450), tensor(450))"
            ]
          },
          "metadata": {},
          "execution_count": 86
        }
      ]
    },
    {
      "cell_type": "code",
      "source": [
        "# FInding the index of the min, max\n",
        "\n",
        "x.argmin()   # returns the index number"
      ],
      "metadata": {
        "colab": {
          "base_uri": "https://localhost:8080/"
        },
        "id": "wUA_hwkWels5",
        "outputId": "1bc84b7a-a7db-4f87-ad0c-6bc8f074d8f8"
      },
      "execution_count": 87,
      "outputs": [
        {
          "output_type": "execute_result",
          "data": {
            "text/plain": [
              "tensor(0)"
            ]
          },
          "metadata": {},
          "execution_count": 87
        }
      ]
    },
    {
      "cell_type": "code",
      "source": [
        "x.argmax()   # returns the index value"
      ],
      "metadata": {
        "colab": {
          "base_uri": "https://localhost:8080/"
        },
        "id": "6cS0Ailren3S",
        "outputId": "582df146-25ba-4dc7-aa81-5cad80e3115d"
      },
      "execution_count": 88,
      "outputs": [
        {
          "output_type": "execute_result",
          "data": {
            "text/plain": [
              "tensor(9)"
            ]
          },
          "metadata": {},
          "execution_count": 88
        }
      ]
    },
    {
      "cell_type": "markdown",
      "source": [
        "### Reshaping, Stacking, Squeezing, and unsqueezing tensors"
      ],
      "metadata": {
        "id": "xgqb23YZgxZk"
      }
    },
    {
      "cell_type": "code",
      "source": [
        "x=torch.arange(1.0,11)\n",
        "x,x.shape"
      ],
      "metadata": {
        "colab": {
          "base_uri": "https://localhost:8080/"
        },
        "id": "JriXmVquenzr",
        "outputId": "b0b28258-b53c-4430-a0f5-1b34d64aba4c"
      },
      "execution_count": 89,
      "outputs": [
        {
          "output_type": "execute_result",
          "data": {
            "text/plain": [
              "(tensor([ 1.,  2.,  3.,  4.,  5.,  6.,  7.,  8.,  9., 10.]), torch.Size([10]))"
            ]
          },
          "metadata": {},
          "execution_count": 89
        }
      ]
    },
    {
      "cell_type": "code",
      "source": [
        "# Adding an extra dimension\n",
        "\n",
        "x_reshaped=x.reshape(1,10)\n",
        "x_reshaped,x_reshaped.shape\n"
      ],
      "metadata": {
        "colab": {
          "base_uri": "https://localhost:8080/"
        },
        "id": "L2dVvKZlimep",
        "outputId": "5e5ddd80-dd65-4295-8279-a54962b60135"
      },
      "execution_count": 90,
      "outputs": [
        {
          "output_type": "execute_result",
          "data": {
            "text/plain": [
              "(tensor([[ 1.,  2.,  3.,  4.,  5.,  6.,  7.,  8.,  9., 10.]]),\n",
              " torch.Size([1, 10]))"
            ]
          },
          "metadata": {},
          "execution_count": 90
        }
      ]
    },
    {
      "cell_type": "code",
      "source": [
        "x_reshaped=x.reshape(10,1)\n",
        "x_reshaped,x_reshaped.shape"
      ],
      "metadata": {
        "colab": {
          "base_uri": "https://localhost:8080/"
        },
        "id": "c5SrIVpnjj22",
        "outputId": "02fee6ee-1f18-464f-e434-99beb7ccbc71"
      },
      "execution_count": 91,
      "outputs": [
        {
          "output_type": "execute_result",
          "data": {
            "text/plain": [
              "(tensor([[ 1.],\n",
              "         [ 2.],\n",
              "         [ 3.],\n",
              "         [ 4.],\n",
              "         [ 5.],\n",
              "         [ 6.],\n",
              "         [ 7.],\n",
              "         [ 8.],\n",
              "         [ 9.],\n",
              "         [10.]]),\n",
              " torch.Size([10, 1]))"
            ]
          },
          "metadata": {},
          "execution_count": 91
        }
      ]
    },
    {
      "cell_type": "code",
      "source": [
        "x_reshaped=x.reshape(5,2)\n",
        "x_reshaped,x_reshaped.shape"
      ],
      "metadata": {
        "colab": {
          "base_uri": "https://localhost:8080/"
        },
        "id": "Y2LZ5KrUkXZj",
        "outputId": "da49e0d2-5395-4013-b318-05724a04642e"
      },
      "execution_count": 92,
      "outputs": [
        {
          "output_type": "execute_result",
          "data": {
            "text/plain": [
              "(tensor([[ 1.,  2.],\n",
              "         [ 3.,  4.],\n",
              "         [ 5.,  6.],\n",
              "         [ 7.,  8.],\n",
              "         [ 9., 10.]]),\n",
              " torch.Size([5, 2]))"
            ]
          },
          "metadata": {},
          "execution_count": 92
        }
      ]
    },
    {
      "cell_type": "code",
      "source": [
        "x_reshaped=x.reshape(2,5)\n",
        "x_reshaped,x_reshaped.shape"
      ],
      "metadata": {
        "colab": {
          "base_uri": "https://localhost:8080/"
        },
        "id": "Kuvr1xuBk3HT",
        "outputId": "1e800528-f280-47aa-c3c6-211fd2dc4112"
      },
      "execution_count": 93,
      "outputs": [
        {
          "output_type": "execute_result",
          "data": {
            "text/plain": [
              "(tensor([[ 1.,  2.,  3.,  4.,  5.],\n",
              "         [ 6.,  7.,  8.,  9., 10.]]),\n",
              " torch.Size([2, 5]))"
            ]
          },
          "metadata": {},
          "execution_count": 93
        }
      ]
    },
    {
      "cell_type": "code",
      "source": [
        "# Change the view\n",
        "z=x.view(1,10)\n",
        "z, z.shape"
      ],
      "metadata": {
        "colab": {
          "base_uri": "https://localhost:8080/"
        },
        "id": "Y49bouGVlGbX",
        "outputId": "16118e20-afee-45ae-e344-6458328dfd34"
      },
      "execution_count": 94,
      "outputs": [
        {
          "output_type": "execute_result",
          "data": {
            "text/plain": [
              "(tensor([[ 1.,  2.,  3.,  4.,  5.,  6.,  7.,  8.,  9., 10.]]),\n",
              " torch.Size([1, 10]))"
            ]
          },
          "metadata": {},
          "execution_count": 94
        }
      ]
    },
    {
      "cell_type": "code",
      "source": [
        "# Change the view\n",
        "z=x.view(5,2)\n",
        "z, z.shape"
      ],
      "metadata": {
        "colab": {
          "base_uri": "https://localhost:8080/"
        },
        "id": "MtiuwdRiKLIW",
        "outputId": "4eceaee6-1b68-417b-deed-221de8d7c2dd"
      },
      "execution_count": 95,
      "outputs": [
        {
          "output_type": "execute_result",
          "data": {
            "text/plain": [
              "(tensor([[ 1.,  2.],\n",
              "         [ 3.,  4.],\n",
              "         [ 5.,  6.],\n",
              "         [ 7.,  8.],\n",
              "         [ 9., 10.]]),\n",
              " torch.Size([5, 2]))"
            ]
          },
          "metadata": {},
          "execution_count": 95
        }
      ]
    },
    {
      "cell_type": "code",
      "source": [
        "# Changing the z changes x (because a view of a tencosr shares the same memory as the original memory)\n",
        "\n",
        "z[:,0]=5\n",
        "\n",
        "z,x\n"
      ],
      "metadata": {
        "colab": {
          "base_uri": "https://localhost:8080/"
        },
        "id": "9b3l263Clp1q",
        "outputId": "223af28b-ab0e-4db1-c994-2856f036cb8a"
      },
      "execution_count": 96,
      "outputs": [
        {
          "output_type": "execute_result",
          "data": {
            "text/plain": [
              "(tensor([[ 5.,  2.],\n",
              "         [ 5.,  4.],\n",
              "         [ 5.,  6.],\n",
              "         [ 5.,  8.],\n",
              "         [ 5., 10.]]),\n",
              " tensor([ 5.,  2.,  5.,  4.,  5.,  6.,  5.,  8.,  5., 10.]))"
            ]
          },
          "metadata": {},
          "execution_count": 96
        }
      ]
    },
    {
      "cell_type": "code",
      "source": [
        "# Stack tensors on top of each other\n",
        "\n",
        "x_stack=torch.stack([x,x,x,x],dim=0)\n",
        "x_stack"
      ],
      "metadata": {
        "colab": {
          "base_uri": "https://localhost:8080/"
        },
        "id": "hka-Nd5cmG_0",
        "outputId": "2b7c0f92-8243-43d0-bb4d-af806825c284"
      },
      "execution_count": 97,
      "outputs": [
        {
          "output_type": "execute_result",
          "data": {
            "text/plain": [
              "tensor([[ 5.,  2.,  5.,  4.,  5.,  6.,  5.,  8.,  5., 10.],\n",
              "        [ 5.,  2.,  5.,  4.,  5.,  6.,  5.,  8.,  5., 10.],\n",
              "        [ 5.,  2.,  5.,  4.,  5.,  6.,  5.,  8.,  5., 10.],\n",
              "        [ 5.,  2.,  5.,  4.,  5.,  6.,  5.,  8.,  5., 10.]])"
            ]
          },
          "metadata": {},
          "execution_count": 97
        }
      ]
    },
    {
      "cell_type": "code",
      "source": [
        "x_stack=torch.stack([x,x,x,x],dim=1)\n",
        "x_stack"
      ],
      "metadata": {
        "colab": {
          "base_uri": "https://localhost:8080/"
        },
        "id": "GUrWWc_8nqF2",
        "outputId": "ca035e2c-218d-45f5-d872-679cc6974bfb"
      },
      "execution_count": 98,
      "outputs": [
        {
          "output_type": "execute_result",
          "data": {
            "text/plain": [
              "tensor([[ 5.,  5.,  5.,  5.],\n",
              "        [ 2.,  2.,  2.,  2.],\n",
              "        [ 5.,  5.,  5.,  5.],\n",
              "        [ 4.,  4.,  4.,  4.],\n",
              "        [ 5.,  5.,  5.,  5.],\n",
              "        [ 6.,  6.,  6.,  6.],\n",
              "        [ 5.,  5.,  5.,  5.],\n",
              "        [ 8.,  8.,  8.,  8.],\n",
              "        [ 5.,  5.,  5.,  5.],\n",
              "        [10., 10., 10., 10.]])"
            ]
          },
          "metadata": {},
          "execution_count": 98
        }
      ]
    },
    {
      "cell_type": "code",
      "source": [
        "x_stack=torch.stack([x,x,x,x],dim=-1)\n",
        "x_stack"
      ],
      "metadata": {
        "colab": {
          "base_uri": "https://localhost:8080/"
        },
        "id": "DdaNLNw6oiac",
        "outputId": "982efb8a-eae1-40ea-9aad-9351e046755f"
      },
      "execution_count": 99,
      "outputs": [
        {
          "output_type": "execute_result",
          "data": {
            "text/plain": [
              "tensor([[ 5.,  5.,  5.,  5.],\n",
              "        [ 2.,  2.,  2.,  2.],\n",
              "        [ 5.,  5.,  5.,  5.],\n",
              "        [ 4.,  4.,  4.,  4.],\n",
              "        [ 5.,  5.,  5.,  5.],\n",
              "        [ 6.,  6.,  6.,  6.],\n",
              "        [ 5.,  5.,  5.,  5.],\n",
              "        [ 8.,  8.,  8.,  8.],\n",
              "        [ 5.,  5.,  5.,  5.],\n",
              "        [10., 10., 10., 10.]])"
            ]
          },
          "metadata": {},
          "execution_count": 99
        }
      ]
    },
    {
      "cell_type": "code",
      "source": [
        "x_stack=torch.stack([x,x,x,x],dim=-2)\n",
        "x_stack"
      ],
      "metadata": {
        "colab": {
          "base_uri": "https://localhost:8080/"
        },
        "id": "OQpAZ57Sn8JZ",
        "outputId": "f58ba636-5465-43e5-e5cc-ad17ea30ca90"
      },
      "execution_count": 100,
      "outputs": [
        {
          "output_type": "execute_result",
          "data": {
            "text/plain": [
              "tensor([[ 5.,  2.,  5.,  4.,  5.,  6.,  5.,  8.,  5., 10.],\n",
              "        [ 5.,  2.,  5.,  4.,  5.,  6.,  5.,  8.,  5., 10.],\n",
              "        [ 5.,  2.,  5.,  4.,  5.,  6.,  5.,  8.,  5., 10.],\n",
              "        [ 5.,  2.,  5.,  4.,  5.,  6.,  5.,  8.,  5., 10.]])"
            ]
          },
          "metadata": {},
          "execution_count": 100
        }
      ]
    },
    {
      "cell_type": "markdown",
      "source": [
        "### Squeeze and unsqueeze"
      ],
      "metadata": {
        "id": "kQQQ90yfo8sN"
      }
    },
    {
      "cell_type": "code",
      "source": [
        "x=x.reshape(1,10)\n",
        "x,x.shape"
      ],
      "metadata": {
        "colab": {
          "base_uri": "https://localhost:8080/"
        },
        "id": "cbeTqbeTpD_M",
        "outputId": "4a36d5c0-8ca4-44dd-c789-85041ed7d36c"
      },
      "execution_count": 101,
      "outputs": [
        {
          "output_type": "execute_result",
          "data": {
            "text/plain": [
              "(tensor([[ 5.,  2.,  5.,  4.,  5.,  6.,  5.,  8.,  5., 10.]]),\n",
              " torch.Size([1, 10]))"
            ]
          },
          "metadata": {},
          "execution_count": 101
        }
      ]
    },
    {
      "cell_type": "code",
      "source": [
        "x_squeezed=torch.squeeze(x,dim=0)\n",
        "x_squeezed,x_squeezed.shape"
      ],
      "metadata": {
        "colab": {
          "base_uri": "https://localhost:8080/"
        },
        "id": "EEktzvK5oGAk",
        "outputId": "41aba21a-0209-4899-a8ca-211d5bb313bb"
      },
      "execution_count": 102,
      "outputs": [
        {
          "output_type": "execute_result",
          "data": {
            "text/plain": [
              "(tensor([ 5.,  2.,  5.,  4.,  5.,  6.,  5.,  8.,  5., 10.]), torch.Size([10]))"
            ]
          },
          "metadata": {},
          "execution_count": 102
        }
      ]
    },
    {
      "cell_type": "code",
      "source": [
        "print(f\"Previous tensor : {x}\")\n",
        "print(f\"Previous shape : {x.shape}\")\n",
        "\n",
        "print(f\"Previous tensor : {x_squeezed}\")\n",
        "print(f\"Previous shape : {x_squeezed.shape}\")"
      ],
      "metadata": {
        "colab": {
          "base_uri": "https://localhost:8080/"
        },
        "id": "8LXa2HHBraKG",
        "outputId": "c63a44f2-7f71-4a9c-bfaf-ff812c285629"
      },
      "execution_count": 103,
      "outputs": [
        {
          "output_type": "stream",
          "name": "stdout",
          "text": [
            "Previous tensor : tensor([[ 5.,  2.,  5.,  4.,  5.,  6.,  5.,  8.,  5., 10.]])\n",
            "Previous shape : torch.Size([1, 10])\n",
            "Previous tensor : tensor([ 5.,  2.,  5.,  4.,  5.,  6.,  5.,  8.,  5., 10.])\n",
            "Previous shape : torch.Size([10])\n"
          ]
        }
      ]
    },
    {
      "cell_type": "code",
      "source": [
        "x_unsqueezed=torch.unsqueeze(x_squeezed,dim=0)\n",
        "x_unsqueezed,x_unsqueezed.shape"
      ],
      "metadata": {
        "colab": {
          "base_uri": "https://localhost:8080/"
        },
        "id": "GLJAg7x9pc6N",
        "outputId": "4755ee4e-6b80-4adf-b760-4a6a737af189"
      },
      "execution_count": 104,
      "outputs": [
        {
          "output_type": "execute_result",
          "data": {
            "text/plain": [
              "(tensor([[ 5.,  2.,  5.,  4.,  5.,  6.,  5.,  8.,  5., 10.]]),\n",
              " torch.Size([1, 10]))"
            ]
          },
          "metadata": {},
          "execution_count": 104
        }
      ]
    },
    {
      "cell_type": "code",
      "source": [
        "print(f\"Previous tensor : {x_squeezed}\")\n",
        "print(f\"Previous shape : {x_squeezed.shape}\")\n",
        "\n",
        "print(f\"Previous tensor : {x_unsqueezed}\")\n",
        "print(f\"Previous shape : {x_unsqueezed.shape}\")"
      ],
      "metadata": {
        "colab": {
          "base_uri": "https://localhost:8080/"
        },
        "id": "Dtn3LmjHpi70",
        "outputId": "d00412af-ead7-414d-f30f-7ad55c7a1140"
      },
      "execution_count": 105,
      "outputs": [
        {
          "output_type": "stream",
          "name": "stdout",
          "text": [
            "Previous tensor : tensor([ 5.,  2.,  5.,  4.,  5.,  6.,  5.,  8.,  5., 10.])\n",
            "Previous shape : torch.Size([10])\n",
            "Previous tensor : tensor([[ 5.,  2.,  5.,  4.,  5.,  6.,  5.,  8.,  5., 10.]])\n",
            "Previous shape : torch.Size([1, 10])\n"
          ]
        }
      ]
    },
    {
      "cell_type": "markdown",
      "source": [
        "### Permute-- re arranges the dimensions of a target tensor in specified order"
      ],
      "metadata": {
        "id": "8oo369ostB9B"
      }
    },
    {
      "cell_type": "code",
      "source": [
        "x_original=torch.rand(size=(224,224,3))\n",
        "\n",
        "\n",
        "# Permute the original tensor to rearrange the axis or dim order\n",
        "\n",
        "x_permuted=torch.permute(x_original,(2,0,1))  # index\n",
        "\n",
        "# axis 0->1, 1->2, 2->0\n",
        "\n",
        "\n",
        "print(f\"previous shape: {x_original.shape}\")\n",
        "print(f\"new shape: {x_permuted.shape}\")"
      ],
      "metadata": {
        "colab": {
          "base_uri": "https://localhost:8080/"
        },
        "id": "ono333HZt10b",
        "outputId": "15d2cfd3-20d9-4e3b-b314-e567410f45ae"
      },
      "execution_count": 106,
      "outputs": [
        {
          "output_type": "stream",
          "name": "stdout",
          "text": [
            "previous shape: torch.Size([224, 224, 3])\n",
            "new shape: torch.Size([3, 224, 224])\n"
          ]
        }
      ]
    },
    {
      "cell_type": "code",
      "source": [
        "x_original[0][0][0]=72345\n",
        "x_original[0][0][0], x_permuted[0][0][0]"
      ],
      "metadata": {
        "id": "o3QKaj8AutMk",
        "colab": {
          "base_uri": "https://localhost:8080/"
        },
        "outputId": "fbc47539-83a1-4bbd-9293-6658376df68c"
      },
      "execution_count": 107,
      "outputs": [
        {
          "output_type": "execute_result",
          "data": {
            "text/plain": [
              "(tensor(72345.), tensor(72345.))"
            ]
          },
          "metadata": {},
          "execution_count": 107
        }
      ]
    },
    {
      "cell_type": "markdown",
      "source": [
        "#### Indexing"
      ],
      "metadata": {
        "id": "udOjjdNzL_FS"
      }
    },
    {
      "cell_type": "code",
      "source": [
        "x=torch.arange(1,10).reshape(1,3,3)\n",
        "x, x.shape"
      ],
      "metadata": {
        "colab": {
          "base_uri": "https://localhost:8080/"
        },
        "id": "YXc13NmdK9WK",
        "outputId": "c3b410ed-648b-40c0-8eb8-4ab988b25612"
      },
      "execution_count": 108,
      "outputs": [
        {
          "output_type": "execute_result",
          "data": {
            "text/plain": [
              "(tensor([[[1, 2, 3],\n",
              "          [4, 5, 6],\n",
              "          [7, 8, 9]]]),\n",
              " torch.Size([1, 3, 3]))"
            ]
          },
          "metadata": {},
          "execution_count": 108
        }
      ]
    },
    {
      "cell_type": "code",
      "source": [
        "x[0]"
      ],
      "metadata": {
        "colab": {
          "base_uri": "https://localhost:8080/"
        },
        "id": "I14wUQmKMzRd",
        "outputId": "9adca825-170f-4d90-b861-acccf3259ab3"
      },
      "execution_count": 109,
      "outputs": [
        {
          "output_type": "execute_result",
          "data": {
            "text/plain": [
              "tensor([[1, 2, 3],\n",
              "        [4, 5, 6],\n",
              "        [7, 8, 9]])"
            ]
          },
          "metadata": {},
          "execution_count": 109
        }
      ]
    },
    {
      "cell_type": "code",
      "source": [
        "x[0][0]"
      ],
      "metadata": {
        "colab": {
          "base_uri": "https://localhost:8080/"
        },
        "id": "jQiM60dSMEWB",
        "outputId": "5d46ce4d-5d3a-4c82-a236-40486f16482e"
      },
      "execution_count": 110,
      "outputs": [
        {
          "output_type": "execute_result",
          "data": {
            "text/plain": [
              "tensor([1, 2, 3])"
            ]
          },
          "metadata": {},
          "execution_count": 110
        }
      ]
    },
    {
      "cell_type": "code",
      "source": [
        "x[0][0][1]\n",
        "\n",
        "x[0][1][1]"
      ],
      "metadata": {
        "colab": {
          "base_uri": "https://localhost:8080/"
        },
        "id": "O0f3UaoVMm4t",
        "outputId": "ad2e3728-f9e1-450c-d3ba-2688ca877cd3"
      },
      "execution_count": 111,
      "outputs": [
        {
          "output_type": "execute_result",
          "data": {
            "text/plain": [
              "tensor(5)"
            ]
          },
          "metadata": {},
          "execution_count": 111
        }
      ]
    },
    {
      "cell_type": "code",
      "source": [
        "x[0][2][2]"
      ],
      "metadata": {
        "colab": {
          "base_uri": "https://localhost:8080/"
        },
        "id": "hhqXOiSmMqce",
        "outputId": "f66341fc-efb3-4d14-b15a-26eeada2d086"
      },
      "execution_count": 112,
      "outputs": [
        {
          "output_type": "execute_result",
          "data": {
            "text/plain": [
              "tensor(9)"
            ]
          },
          "metadata": {},
          "execution_count": 112
        }
      ]
    },
    {
      "cell_type": "code",
      "source": [
        "x[:,:,1]"
      ],
      "metadata": {
        "colab": {
          "base_uri": "https://localhost:8080/"
        },
        "id": "ZV5j4e89Nii-",
        "outputId": "d956012a-4fa3-42cd-ba2b-13def9412329"
      },
      "execution_count": 113,
      "outputs": [
        {
          "output_type": "execute_result",
          "data": {
            "text/plain": [
              "tensor([[2, 5, 8]])"
            ]
          },
          "metadata": {},
          "execution_count": 113
        }
      ]
    },
    {
      "cell_type": "code",
      "source": [
        "x[:,:,2]"
      ],
      "metadata": {
        "colab": {
          "base_uri": "https://localhost:8080/"
        },
        "id": "N4H82mjMN9Hr",
        "outputId": "03738d24-da00-41e0-a69f-9f5fd5e0b1db"
      },
      "execution_count": 114,
      "outputs": [
        {
          "output_type": "execute_result",
          "data": {
            "text/plain": [
              "tensor([[3, 6, 9]])"
            ]
          },
          "metadata": {},
          "execution_count": 114
        }
      ]
    },
    {
      "cell_type": "code",
      "source": [
        "x[:,:,:2]"
      ],
      "metadata": {
        "colab": {
          "base_uri": "https://localhost:8080/"
        },
        "id": "436yDdkXN-8I",
        "outputId": "3655ae4c-0b1e-465e-8d1f-0f69567dcc42"
      },
      "execution_count": 115,
      "outputs": [
        {
          "output_type": "execute_result",
          "data": {
            "text/plain": [
              "tensor([[[1, 2],\n",
              "         [4, 5],\n",
              "         [7, 8]]])"
            ]
          },
          "metadata": {},
          "execution_count": 115
        }
      ]
    },
    {
      "cell_type": "code",
      "source": [
        "x[:,1,1]"
      ],
      "metadata": {
        "colab": {
          "base_uri": "https://localhost:8080/"
        },
        "id": "nZ61Ue2ZOSS7",
        "outputId": "5b964339-bf1f-4835-e46c-5ffd48e2e299"
      },
      "execution_count": 116,
      "outputs": [
        {
          "output_type": "execute_result",
          "data": {
            "text/plain": [
              "tensor([5])"
            ]
          },
          "metadata": {},
          "execution_count": 116
        }
      ]
    },
    {
      "cell_type": "code",
      "source": [
        "x[0,0,:]"
      ],
      "metadata": {
        "colab": {
          "base_uri": "https://localhost:8080/"
        },
        "id": "lQ_9vpWFOagN",
        "outputId": "09b293eb-57b4-4bc3-9d49-9027f48ed754"
      },
      "execution_count": 117,
      "outputs": [
        {
          "output_type": "execute_result",
          "data": {
            "text/plain": [
              "tensor([1, 2, 3])"
            ]
          },
          "metadata": {},
          "execution_count": 117
        }
      ]
    },
    {
      "cell_type": "code",
      "source": [
        "# index to return 9\n",
        "\n",
        "x[:,2,2]"
      ],
      "metadata": {
        "colab": {
          "base_uri": "https://localhost:8080/"
        },
        "id": "LjNQz4KMOvI2",
        "outputId": "742a6e64-957e-4cdc-e5cb-340bc3f5ba91"
      },
      "execution_count": 118,
      "outputs": [
        {
          "output_type": "execute_result",
          "data": {
            "text/plain": [
              "tensor([9])"
            ]
          },
          "metadata": {},
          "execution_count": 118
        }
      ]
    },
    {
      "cell_type": "code",
      "source": [
        "x[:,:,2]"
      ],
      "metadata": {
        "colab": {
          "base_uri": "https://localhost:8080/"
        },
        "id": "ll8Ixr2APT_X",
        "outputId": "f1402af6-d1a0-4559-da03-b230de54fb5d"
      },
      "execution_count": 119,
      "outputs": [
        {
          "output_type": "execute_result",
          "data": {
            "text/plain": [
              "tensor([[3, 6, 9]])"
            ]
          },
          "metadata": {},
          "execution_count": 119
        }
      ]
    },
    {
      "cell_type": "markdown",
      "source": [
        "#### Pytorch and Numpy"
      ],
      "metadata": {
        "id": "47yg-4tvPENe"
      }
    },
    {
      "cell_type": "markdown",
      "source": [
        "torch.from_numpy(ndarray) --> from numpy to tensors\n",
        "\n",
        "torch.tensor.numpy()"
      ],
      "metadata": {
        "id": "OI6luilVQFHL"
      }
    },
    {
      "cell_type": "code",
      "source": [
        "# Numpy array to tensor\n",
        "import numpy as np\n",
        "\n",
        "array=np.arange(1.0,8.0)\n",
        "\n",
        "tensor= torch.from_numpy(array)\n",
        "\n",
        "array , tensor"
      ],
      "metadata": {
        "colab": {
          "base_uri": "https://localhost:8080/"
        },
        "id": "eO30RsOyO3Wx",
        "outputId": "700bdf8d-1234-48ae-fcdf-026826899e4a"
      },
      "execution_count": 120,
      "outputs": [
        {
          "output_type": "execute_result",
          "data": {
            "text/plain": [
              "(array([1., 2., 3., 4., 5., 6., 7.]),\n",
              " tensor([1., 2., 3., 4., 5., 6., 7.], dtype=torch.float64))"
            ]
          },
          "metadata": {},
          "execution_count": 120
        }
      ]
    },
    {
      "cell_type": "markdown",
      "source": [
        "#### When converting th numpy into tensor the default float 64 remains same"
      ],
      "metadata": {
        "id": "-DjOMMB1RgUZ"
      }
    },
    {
      "cell_type": "code",
      "source": [
        "tensor.dtype"
      ],
      "metadata": {
        "colab": {
          "base_uri": "https://localhost:8080/"
        },
        "id": "-13R4uY3Qz_M",
        "outputId": "7373bfe4-6a5c-499e-f103-89b4dc9be721"
      },
      "execution_count": 121,
      "outputs": [
        {
          "output_type": "execute_result",
          "data": {
            "text/plain": [
              "torch.float64"
            ]
          },
          "metadata": {},
          "execution_count": 121
        }
      ]
    },
    {
      "cell_type": "code",
      "source": [
        "array.dtype"
      ],
      "metadata": {
        "colab": {
          "base_uri": "https://localhost:8080/"
        },
        "id": "pHehNetnRMMP",
        "outputId": "431dacf3-1045-45b3-da66-e9d83d2a2b65"
      },
      "execution_count": 122,
      "outputs": [
        {
          "output_type": "execute_result",
          "data": {
            "text/plain": [
              "dtype('float64')"
            ]
          },
          "metadata": {},
          "execution_count": 122
        }
      ]
    },
    {
      "cell_type": "code",
      "source": [
        "tensor=tensor.type(torch.float32)"
      ],
      "metadata": {
        "id": "KuLH92exRNx3"
      },
      "execution_count": 123,
      "outputs": []
    },
    {
      "cell_type": "code",
      "source": [
        "tensor.dtype"
      ],
      "metadata": {
        "colab": {
          "base_uri": "https://localhost:8080/"
        },
        "id": "TdEtVRp2RTvG",
        "outputId": "de853803-b397-4683-98a7-d7f354ab4001"
      },
      "execution_count": 124,
      "outputs": [
        {
          "output_type": "execute_result",
          "data": {
            "text/plain": [
              "torch.float32"
            ]
          },
          "metadata": {},
          "execution_count": 124
        }
      ]
    },
    {
      "cell_type": "code",
      "source": [
        "tensor"
      ],
      "metadata": {
        "colab": {
          "base_uri": "https://localhost:8080/"
        },
        "id": "Kqhz9PBORVwe",
        "outputId": "7686f546-1fe7-4389-a0c4-750eba75be6c"
      },
      "execution_count": 125,
      "outputs": [
        {
          "output_type": "execute_result",
          "data": {
            "text/plain": [
              "tensor([1., 2., 3., 4., 5., 6., 7.])"
            ]
          },
          "metadata": {},
          "execution_count": 125
        }
      ]
    },
    {
      "cell_type": "code",
      "source": [
        "array=np.arange(1,10)\n",
        "array"
      ],
      "metadata": {
        "colab": {
          "base_uri": "https://localhost:8080/"
        },
        "id": "hWzZ1DyCRebl",
        "outputId": "ef88fcc6-8740-4db5-924e-7cdb23df3106"
      },
      "execution_count": 126,
      "outputs": [
        {
          "output_type": "execute_result",
          "data": {
            "text/plain": [
              "array([1, 2, 3, 4, 5, 6, 7, 8, 9])"
            ]
          },
          "metadata": {},
          "execution_count": 126
        }
      ]
    },
    {
      "cell_type": "code",
      "source": [
        "tensor=torch.from_numpy(array)\n",
        "tensor"
      ],
      "metadata": {
        "colab": {
          "base_uri": "https://localhost:8080/"
        },
        "id": "hSOfyotzXHB1",
        "outputId": "50a257d7-a4cd-45a9-9979-005b9c738339"
      },
      "execution_count": 127,
      "outputs": [
        {
          "output_type": "execute_result",
          "data": {
            "text/plain": [
              "tensor([1, 2, 3, 4, 5, 6, 7, 8, 9])"
            ]
          },
          "metadata": {},
          "execution_count": 127
        }
      ]
    },
    {
      "cell_type": "markdown",
      "source": [
        "### What happens when we add 1 to array does it reflect on tensor"
      ],
      "metadata": {
        "id": "1WErt8rawp_L"
      }
    },
    {
      "cell_type": "code",
      "source": [
        "array=array+1\n",
        "array, tensor"
      ],
      "metadata": {
        "colab": {
          "base_uri": "https://localhost:8080/"
        },
        "id": "uJq5vGBQXQah",
        "outputId": "de109d0a-eb59-4473-9a0d-f81edabaf80d"
      },
      "execution_count": 128,
      "outputs": [
        {
          "output_type": "execute_result",
          "data": {
            "text/plain": [
              "(array([ 2,  3,  4,  5,  6,  7,  8,  9, 10]),\n",
              " tensor([1, 2, 3, 4, 5, 6, 7, 8, 9]))"
            ]
          },
          "metadata": {},
          "execution_count": 128
        }
      ]
    },
    {
      "cell_type": "code",
      "source": [
        "numpy=np.arange(1,10)\n",
        "tensors=torch.from_numpy(numpy)\n",
        "tensors"
      ],
      "metadata": {
        "colab": {
          "base_uri": "https://localhost:8080/"
        },
        "id": "bed8QLrAYCD1",
        "outputId": "a3d02b0b-0d4d-4e89-b71d-df84f126bfe1"
      },
      "execution_count": 129,
      "outputs": [
        {
          "output_type": "execute_result",
          "data": {
            "text/plain": [
              "tensor([1, 2, 3, 4, 5, 6, 7, 8, 9])"
            ]
          },
          "metadata": {},
          "execution_count": 129
        }
      ]
    },
    {
      "cell_type": "markdown",
      "source": [
        "##### Converting numpy to tensors"
      ],
      "metadata": {
        "id": "R7LfWBLnwBqS"
      }
    },
    {
      "cell_type": "code",
      "source": [
        "tensors=torch.ones(7)\n",
        "numpy=tensors.numpy()\n",
        "tensors, numpy"
      ],
      "metadata": {
        "colab": {
          "base_uri": "https://localhost:8080/"
        },
        "id": "50zdqSC4vagS",
        "outputId": "14864c78-44a0-433b-cf76-e7e0d50c04ba"
      },
      "execution_count": 130,
      "outputs": [
        {
          "output_type": "execute_result",
          "data": {
            "text/plain": [
              "(tensor([1., 1., 1., 1., 1., 1., 1.]),\n",
              " array([1., 1., 1., 1., 1., 1., 1.], dtype=float32))"
            ]
          },
          "metadata": {},
          "execution_count": 130
        }
      ]
    },
    {
      "cell_type": "code",
      "source": [
        "numpy.dtype"
      ],
      "metadata": {
        "colab": {
          "base_uri": "https://localhost:8080/"
        },
        "id": "6-i7yos-wO9B",
        "outputId": "4d7ae3e1-e3d6-4071-d38e-7562b49dcf52"
      },
      "execution_count": 131,
      "outputs": [
        {
          "output_type": "execute_result",
          "data": {
            "text/plain": [
              "dtype('float32')"
            ]
          },
          "metadata": {},
          "execution_count": 131
        }
      ]
    },
    {
      "cell_type": "markdown",
      "source": [
        "### What happens when we add 1 to tensors does it reflect on array"
      ],
      "metadata": {
        "id": "SGZn-BhWw5e7"
      }
    },
    {
      "cell_type": "code",
      "source": [
        "tensors=tensors+1\n",
        "tensors, numpy"
      ],
      "metadata": {
        "colab": {
          "base_uri": "https://localhost:8080/"
        },
        "id": "VSpMQUX2wU0E",
        "outputId": "b8a3adbf-eb3b-467e-e577-26aa06c416f6"
      },
      "execution_count": 132,
      "outputs": [
        {
          "output_type": "execute_result",
          "data": {
            "text/plain": [
              "(tensor([2., 2., 2., 2., 2., 2., 2.]),\n",
              " array([1., 1., 1., 1., 1., 1., 1.], dtype=float32))"
            ]
          },
          "metadata": {},
          "execution_count": 132
        }
      ]
    },
    {
      "cell_type": "markdown",
      "source": [
        "### Reproducibility (Trying to take random out of random)"
      ],
      "metadata": {
        "id": "ILKu9azrxhOq"
      }
    },
    {
      "cell_type": "markdown",
      "source": [
        "#### How neural network learns :\n",
        "\n",
        "`Start with random numbers -> tensor operation -> update random numbers to try and make them better representations of the data -> agaiin ->again -> again... `"
      ],
      "metadata": {
        "id": "7LpqWfqPyUfU"
      }
    },
    {
      "cell_type": "markdown",
      "source": [
        "#### To reduce the randomness in pytorch and numpy a concept called ***random seed***\n",
        "\n",
        "random seed is used to flavour the randomness"
      ],
      "metadata": {
        "id": "3SY1O6cUyYe-"
      }
    },
    {
      "cell_type": "code",
      "source": [
        "random_tensor_A=torch.rand(3,4)\n",
        "random_tensor_B=torch.rand(3,4)\n",
        "\n",
        "print(random_tensor_A)\n",
        "print(random_tensor_B)\n",
        "\n",
        "print(random_tensor_A==random_tensor_B)"
      ],
      "metadata": {
        "id": "XrUnE3B-xBe9",
        "colab": {
          "base_uri": "https://localhost:8080/"
        },
        "outputId": "b0e77c7d-bebe-4031-c607-929539557fd1"
      },
      "execution_count": 133,
      "outputs": [
        {
          "output_type": "stream",
          "name": "stdout",
          "text": [
            "tensor([[0.0431, 0.1137, 0.4832, 0.2200],\n",
            "        [0.8381, 0.1320, 0.5032, 0.6394],\n",
            "        [0.3723, 0.7393, 0.5012, 0.7048]])\n",
            "tensor([[0.1368, 0.0089, 0.9129, 0.2593],\n",
            "        [0.1995, 0.8218, 0.3899, 0.7821],\n",
            "        [0.2637, 0.9923, 0.6308, 0.8383]])\n",
            "tensor([[False, False, False, False],\n",
            "        [False, False, False, False],\n",
            "        [False, False, False, False]])\n"
          ]
        }
      ]
    },
    {
      "cell_type": "code",
      "source": [
        "# Making use of random_seed\n",
        "\n",
        "random_seed=42\n",
        "\n",
        "torch.manual_seed(random_seed)\n",
        "\n",
        "random_tensor_c=torch.rand(3,4)\n",
        "\n",
        "torch.manual_seed(random_seed)\n",
        "random_tensor_d=torch.rand(3,4)\n",
        "\n",
        "print(random_tensor_c)\n",
        "print(random_tensor_d)\n",
        "\n",
        "print(random_tensor_c==random_tensor_d)"
      ],
      "metadata": {
        "colab": {
          "base_uri": "https://localhost:8080/"
        },
        "id": "kveYcter1C0U",
        "outputId": "a1f97e15-581c-4cf4-960c-3f3cc8f355ee"
      },
      "execution_count": 135,
      "outputs": [
        {
          "output_type": "stream",
          "name": "stdout",
          "text": [
            "tensor([[0.8823, 0.9150, 0.3829, 0.9593],\n",
            "        [0.3904, 0.6009, 0.2566, 0.7936],\n",
            "        [0.9408, 0.1332, 0.9346, 0.5936]])\n",
            "tensor([[0.8823, 0.9150, 0.3829, 0.9593],\n",
            "        [0.3904, 0.6009, 0.2566, 0.7936],\n",
            "        [0.9408, 0.1332, 0.9346, 0.5936]])\n",
            "tensor([[True, True, True, True],\n",
            "        [True, True, True, True],\n",
            "        [True, True, True, True]])\n"
          ]
        }
      ]
    },
    {
      "cell_type": "markdown",
      "source": [
        "# Accessing GPU's"
      ],
      "metadata": {
        "id": "gN91peUB1xvD"
      }
    },
    {
      "cell_type": "markdown",
      "source": [
        "#### GPU makes the numerical computation faster"
      ],
      "metadata": {
        "id": "0z31kn4y2H8F"
      }
    },
    {
      "cell_type": "code",
      "source": [
        "import torch\n",
        "torch.cuda.is_available()"
      ],
      "metadata": {
        "colab": {
          "base_uri": "https://localhost:8080/"
        },
        "id": "XoyOLlli1DFK",
        "outputId": "825d3e0c-8902-4cde-a6fa-a54259147048"
      },
      "execution_count": 1,
      "outputs": [
        {
          "output_type": "execute_result",
          "data": {
            "text/plain": [
              "True"
            ]
          },
          "metadata": {},
          "execution_count": 1
        }
      ]
    },
    {
      "cell_type": "code",
      "source": [
        "# setting the device to cuda\n",
        "\n",
        "device = torch.device('cuda' if torch.cuda.is_available() else 'cpu')\n",
        "\n",
        "\n",
        "device"
      ],
      "metadata": {
        "colab": {
          "base_uri": "https://localhost:8080/"
        },
        "id": "WWnOE2V95NDf",
        "outputId": "00c54b35-5460-47e8-f030-04cb344b627a"
      },
      "execution_count": 9,
      "outputs": [
        {
          "output_type": "execute_result",
          "data": {
            "text/plain": [
              "device(type='cuda')"
            ]
          },
          "metadata": {},
          "execution_count": 9
        }
      ]
    },
    {
      "cell_type": "code",
      "source": [
        "torch.cuda.device_count()"
      ],
      "metadata": {
        "colab": {
          "base_uri": "https://localhost:8080/"
        },
        "id": "q27etlDR6QdW",
        "outputId": "073cd8a4-ecd6-4ac7-af16-17a1f7d341dd"
      },
      "execution_count": 3,
      "outputs": [
        {
          "output_type": "execute_result",
          "data": {
            "text/plain": [
              "1"
            ]
          },
          "metadata": {},
          "execution_count": 3
        }
      ]
    },
    {
      "cell_type": "markdown",
      "source": [
        "### Agnostic code"
      ],
      "metadata": {
        "id": "6BtkvIRf63yz"
      }
    },
    {
      "cell_type": "markdown",
      "source": [
        "### Putting tensors on GPU"
      ],
      "metadata": {
        "id": "y_E3rfOq8fL4"
      }
    },
    {
      "cell_type": "code",
      "source": [
        "tensor=torch.tensor([1,2,3])\n",
        "\n",
        "tensor, tensor.device"
      ],
      "metadata": {
        "colab": {
          "base_uri": "https://localhost:8080/"
        },
        "id": "UZFOTrJo6bn1",
        "outputId": "a2b36e56-6b7a-40bf-81cb-0756b0a23987"
      },
      "execution_count": 20,
      "outputs": [
        {
          "output_type": "execute_result",
          "data": {
            "text/plain": [
              "(tensor([1, 2, 3]), device(type='cpu'))"
            ]
          },
          "metadata": {},
          "execution_count": 20
        }
      ]
    },
    {
      "cell_type": "markdown",
      "source": [
        "###### cuda is 0 because of index which says 1 gpu"
      ],
      "metadata": {
        "id": "iuOfg5OZ-kS8"
      }
    },
    {
      "cell_type": "code",
      "source": [
        "tensor_on_gpu=tensor.to(device)\n",
        "tensor_on_gpu"
      ],
      "metadata": {
        "colab": {
          "base_uri": "https://localhost:8080/"
        },
        "id": "7MaFuEU185gr",
        "outputId": "8f8e6941-5682-486e-f7a1-244cb75356d4"
      },
      "execution_count": 28,
      "outputs": [
        {
          "output_type": "execute_result",
          "data": {
            "text/plain": [
              "tensor([1, 2, 3], device='cuda:0')"
            ]
          },
          "metadata": {},
          "execution_count": 28
        }
      ]
    },
    {
      "cell_type": "markdown",
      "source": [
        "### Moving back to CPU since the numpy supports on cpu\n",
        "\n",
        "if tensor is on gpu can't transfer it to numpy"
      ],
      "metadata": {
        "id": "XE446uMk-_1i"
      }
    },
    {
      "cell_type": "code",
      "source": [
        "tensor_back_on_cpu=tensor_on_gpu.cpu().numpy()\n",
        "tensor_back_on_cpu"
      ],
      "metadata": {
        "colab": {
          "base_uri": "https://localhost:8080/"
        },
        "id": "oW7PMWof9Nva",
        "outputId": "e4ef0a25-4b8e-4485-840a-3bdecbe13bff"
      },
      "execution_count": 32,
      "outputs": [
        {
          "output_type": "execute_result",
          "data": {
            "text/plain": [
              "array([1, 2, 3])"
            ]
          },
          "metadata": {},
          "execution_count": 32
        }
      ]
    },
    {
      "cell_type": "code",
      "source": [
        "tensor_on_gpu"
      ],
      "metadata": {
        "colab": {
          "base_uri": "https://localhost:8080/"
        },
        "id": "7eMJGXpp_udE",
        "outputId": "13d8e59d-9a7b-4fa5-e462-9ac7d03b796a"
      },
      "execution_count": 33,
      "outputs": [
        {
          "output_type": "execute_result",
          "data": {
            "text/plain": [
              "tensor([1, 2, 3], device='cuda:0')"
            ]
          },
          "metadata": {},
          "execution_count": 33
        }
      ]
    }
  ]
}